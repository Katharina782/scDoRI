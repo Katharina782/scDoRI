{
 "cells": [
  {
   "cell_type": "markdown",
   "id": "56875fdc-147f-4b32-8acb-aa44acbad8b1",
   "metadata": {},
   "source": [
    "# Palantir"
   ]
  },
  {
   "cell_type": "code",
   "execution_count": 1,
   "id": "3df02dc0-80dd-46b4-8720-ec5395b5931e",
   "metadata": {},
   "outputs": [
    {
     "name": "stderr",
     "output_type": "stream",
     "text": [
      "<frozen importlib._bootstrap>:219: RuntimeWarning: scipy._lib.messagestream.MessageStream size changed, may indicate binary incompatibility. Expected 56 from C header, got 64 from PyObject\n",
      "findfont: Font family ['Raleway'] not found. Falling back to DejaVu Sans.\n",
      "findfont: Font family ['Lato'] not found. Falling back to DejaVu Sans.\n"
     ]
    }
   ],
   "source": [
    "import palantir\n",
    "import scanpy as sc\n",
    "import numpy as np\n",
    "import os\n",
    "\n",
    "# Plotting \n",
    "import matplotlib\n",
    "import matplotlib.pyplot as plt\n",
    "\n",
    "# Inline plotting\n",
    "%matplotlib inline\n",
    "\n",
    "# Reset random seed\n",
    "np.random.seed(5)"
   ]
  },
  {
   "cell_type": "code",
   "execution_count": 5,
   "id": "b37f1e9d-d697-4ae2-afaf-be6e36e8b4a8",
   "metadata": {},
   "outputs": [],
   "source": [
    "ad = sc.read_h5ad(\"/omics/groups/OE0533/internal/katharina/scDoRI/gastrulation_data/old_data_three_timepoints/old_anndata_rna.h5ad\")"
   ]
  },
  {
   "cell_type": "code",
   "execution_count": 6,
   "id": "f7e8aba1-933a-43be-9c78-f5d0f8a225fa",
   "metadata": {},
   "outputs": [],
   "source": [
    "sc.pp.normalize_per_cell(ad)"
   ]
  },
  {
   "cell_type": "code",
   "execution_count": 7,
   "id": "ba6b736e-be83-46fe-ba8e-b2e097d2559a",
   "metadata": {},
   "outputs": [],
   "source": [
    "palantir.preprocess.log_transform(ad)\n"
   ]
  },
  {
   "cell_type": "code",
   "execution_count": 8,
   "id": "a4109557-bad5-4224-a702-7bbf705138fd",
   "metadata": {},
   "outputs": [],
   "source": [
    "sc.pp.highly_variable_genes(ad, n_top_genes=1500, flavor='cell_ranger')\n"
   ]
  },
  {
   "cell_type": "code",
   "execution_count": 9,
   "id": "4f720371-47d0-4759-8261-c4b3d1c1bba5",
   "metadata": {},
   "outputs": [],
   "source": [
    "pca_projections, _ = palantir.utils.run_pca(ad, use_hvg=False)\n"
   ]
  },
  {
   "cell_type": "code",
   "execution_count": 10,
   "id": "9b541625-a80b-4969-ab40-d1fda6db17df",
   "metadata": {},
   "outputs": [
    {
     "name": "stdout",
     "output_type": "stream",
     "text": [
      "Determing nearest neighbor graph...\n"
     ]
    }
   ],
   "source": [
    "# Run diffusion maps\n",
    "dm_res = palantir.utils.run_diffusion_maps(pca_projections, n_components=5)"
   ]
  },
  {
   "cell_type": "code",
   "execution_count": null,
   "id": "663b1a27-408e-4856-8e1f-54ad424ffac7",
   "metadata": {},
   "outputs": [],
   "source": [
    "ms_data = palantir.utils.determine_multiscale_space(dm_res)\n"
   ]
  },
  {
   "cell_type": "code",
   "execution_count": null,
   "id": "8d6af7f4-7303-48c5-8f63-003521c34772",
   "metadata": {},
   "outputs": [],
   "source": [
    "fdl = harmony.plot.force_directed_layout(dm_res['kernel'], ad.obs_names)\n"
   ]
  }
 ],
 "metadata": {
  "kernelspec": {
   "display_name": "seacell_yml",
   "language": "python",
   "name": "seacell_yml"
  },
  "language_info": {
   "codemirror_mode": {
    "name": "ipython",
    "version": 3
   },
   "file_extension": ".py",
   "mimetype": "text/x-python",
   "name": "python",
   "nbconvert_exporter": "python",
   "pygments_lexer": "ipython3",
   "version": "3.8.13"
  }
 },
 "nbformat": 4,
 "nbformat_minor": 5
}
