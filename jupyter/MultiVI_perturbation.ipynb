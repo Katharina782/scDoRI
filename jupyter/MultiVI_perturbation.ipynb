{
 "cells": [
  {
   "cell_type": "code",
   "execution_count": 10,
   "metadata": {},
   "outputs": [],
   "source": [
    "import scanpy as sc\n",
    "import scvi\n",
    "import numpy as np\n",
    "import anndata as ad\n",
    "from anndata import AnnData\n",
    "from scipy import sparse\n",
    "import pandas as pd"
   ]
  },
  {
   "cell_type": "code",
   "execution_count": 27,
   "metadata": {},
   "outputs": [],
   "source": [
    "data_dir = \"/omics/groups/OE0533/internal/katharina/scDoRI/gastrulation_data_new/Kathi/\"\n",
    "rna_adata =  sc.read_h5ad(data_dir + \"rna_anndata_from_seurat\")\n",
    "atac_adata = sc.read_h5ad(data_dir + \"peak_anndata_from_archr\")"
   ]
  },
  {
   "cell_type": "code",
   "execution_count": 37,
   "metadata": {},
   "outputs": [],
   "source": [
    "#rna_adata =  sc.read_h5ad(data_dir + \"rna_anndata_from_seurat\")\n",
    "\n",
    "#atac_adata = sc.read_h5ad(data_dir + \"peak_anndata_from_archr\")"
   ]
  },
  {
   "cell_type": "code",
   "execution_count": 28,
   "metadata": {},
   "outputs": [],
   "source": [
    "# make sure that the cells are in the same order\n",
    "atac_adata = atac_adata[rna_adata.obs.index.tolist(), :]"
   ]
  },
  {
   "cell_type": "code",
   "execution_count": 29,
   "metadata": {},
   "outputs": [],
   "source": [
    "atac_df = atac_adata.var\n",
    "#atac_df[\"modality\"]=[\"Peaks\" for i in range(len(atac_df))]"
   ]
  },
  {
   "cell_type": "code",
   "execution_count": 31,
   "metadata": {},
   "outputs": [],
   "source": [
    "atac_df.insert(1, \"modality\", [\"Peaks\" for i in range(len(atac_df))])"
   ]
  },
  {
   "cell_type": "code",
   "execution_count": 40,
   "metadata": {},
   "outputs": [],
   "source": [
    "rna_df = rna_adata.var\n",
    "#rna_df = rna_df.rename(columns = {\"gene\":\"ID\"})\n",
    "rna_df.insert(0, \"modality\", [\"Gene_expression\" for i in range(len(rna_df))])\n",
    "#rna_df[\"modality\"] = [\"Gene_expression\" for i in range(len(rna_df))]"
   ]
  },
  {
   "cell_type": "code",
   "execution_count": 42,
   "metadata": {},
   "outputs": [],
   "source": [
    "df = rna_df.append(atac_df)"
   ]
  },
  {
   "cell_type": "code",
   "execution_count": 44,
   "metadata": {},
   "outputs": [
    {
     "data": {
      "text/plain": [
       "True"
      ]
     },
     "execution_count": 44,
     "metadata": {},
     "output_type": "execute_result"
    }
   ],
   "source": [
    "np.all(rna_adata.obs.index == atac_adata.obs.index)"
   ]
  },
  {
   "cell_type": "code",
   "execution_count": 45,
   "metadata": {},
   "outputs": [],
   "source": [
    "matrix = sparse.hstack((rna_adata.X, atac_adata.X))"
   ]
  },
  {
   "cell_type": "code",
   "execution_count": 46,
   "metadata": {},
   "outputs": [
    {
     "data": {
      "text/plain": [
       "OverloadedDict, wrapping:\n",
       "\tOrderedDict()\n",
       "With overloaded keys:\n",
       "\t['neighbors']."
      ]
     },
     "execution_count": 46,
     "metadata": {},
     "output_type": "execute_result"
    }
   ],
   "source": [
    "rna_adata.uns"
   ]
  },
  {
   "cell_type": "code",
   "execution_count": 47,
   "metadata": {},
   "outputs": [],
   "source": [
    "multiome = AnnData(\n",
    "X = matrix,\n",
    "obs = atac_adata.obs,\n",
    "var = df)"
   ]
  },
  {
   "cell_type": "code",
   "execution_count": 48,
   "metadata": {},
   "outputs": [
    {
     "data": {
      "text/plain": [
       "AnnData object with n_obs × n_vars = 62963 × 224536\n",
       "    obs: 'BlacklistRatio', 'nDiFrags', 'nFrags', 'nMonoFrags', 'nMultiFrags', 'NucleosomeRatio', 'PassQC', 'PromoterRatio', 'ReadsInBlacklist', 'ReadsInPromoter', 'ReadsInTSS', 'Sample', 'TSSEnrichment', 'barcode', 'sample', 'nFeature_RNA', 'nCount_RNA', 'mitochondrial_percent_RNA', 'ribosomal_percent_RNA', 'stage', 'genotype', 'pass_rnaQC', 'doublet_score', 'doublet_call', 'celltype.mapped', 'celltype.score', 'closest.cell', 'TSSEnrichment_atac', 'ReadsInTSS_atac', 'PromoterRatio_atac', 'NucleosomeRatio_atac', 'nFrags_atac', 'BlacklistRatio_atac', 'ReadsInPeaks', 'FRIP'\n",
       "    var: 'modality', 'peak', 'seqnames', 'start', 'end', 'width', 'strand', 'score', 'replicateScoreQuantile', 'groupScoreQuantile', 'Reproducibility', 'GroupReplicate', 'distToGeneStart', 'nearestGene', 'peakType', 'distToTSS', 'nearestTSS', 'GC', 'idx', 'N'"
      ]
     },
     "execution_count": 48,
     "metadata": {},
     "output_type": "execute_result"
    }
   ],
   "source": [
    "multiome"
   ]
  },
  {
   "cell_type": "code",
   "execution_count": 49,
   "metadata": {},
   "outputs": [],
   "source": [
    "adata_mvi = scvi.data.organize_multiome_anndatas(multiome)\n"
   ]
  },
  {
   "cell_type": "code",
   "execution_count": 50,
   "metadata": {},
   "outputs": [
    {
     "data": {
      "text/html": [
       "<div>\n",
       "<style scoped>\n",
       "    .dataframe tbody tr th:only-of-type {\n",
       "        vertical-align: middle;\n",
       "    }\n",
       "\n",
       "    .dataframe tbody tr th {\n",
       "        vertical-align: top;\n",
       "    }\n",
       "\n",
       "    .dataframe thead th {\n",
       "        text-align: right;\n",
       "    }\n",
       "</style>\n",
       "<table border=\"1\" class=\"dataframe\">\n",
       "  <thead>\n",
       "    <tr style=\"text-align: right;\">\n",
       "      <th></th>\n",
       "      <th>modality</th>\n",
       "      <th>peak</th>\n",
       "      <th>seqnames</th>\n",
       "      <th>start</th>\n",
       "      <th>end</th>\n",
       "      <th>width</th>\n",
       "      <th>strand</th>\n",
       "      <th>score</th>\n",
       "      <th>replicateScoreQuantile</th>\n",
       "      <th>groupScoreQuantile</th>\n",
       "      <th>Reproducibility</th>\n",
       "      <th>GroupReplicate</th>\n",
       "      <th>distToGeneStart</th>\n",
       "      <th>nearestGene</th>\n",
       "      <th>peakType</th>\n",
       "      <th>distToTSS</th>\n",
       "      <th>nearestTSS</th>\n",
       "      <th>GC</th>\n",
       "      <th>idx</th>\n",
       "      <th>N</th>\n",
       "    </tr>\n",
       "  </thead>\n",
       "  <tbody>\n",
       "    <tr>\n",
       "      <th>Xkr4</th>\n",
       "      <td>Gene_expression</td>\n",
       "      <td>NaN</td>\n",
       "      <td>NaN</td>\n",
       "      <td>NaN</td>\n",
       "      <td>NaN</td>\n",
       "      <td>NaN</td>\n",
       "      <td>NaN</td>\n",
       "      <td>NaN</td>\n",
       "      <td>NaN</td>\n",
       "      <td>NaN</td>\n",
       "      <td>NaN</td>\n",
       "      <td>NaN</td>\n",
       "      <td>NaN</td>\n",
       "      <td>NaN</td>\n",
       "      <td>NaN</td>\n",
       "      <td>NaN</td>\n",
       "      <td>NaN</td>\n",
       "      <td>NaN</td>\n",
       "      <td>NaN</td>\n",
       "      <td>NaN</td>\n",
       "    </tr>\n",
       "    <tr>\n",
       "      <th>Gm1992</th>\n",
       "      <td>Gene_expression</td>\n",
       "      <td>NaN</td>\n",
       "      <td>NaN</td>\n",
       "      <td>NaN</td>\n",
       "      <td>NaN</td>\n",
       "      <td>NaN</td>\n",
       "      <td>NaN</td>\n",
       "      <td>NaN</td>\n",
       "      <td>NaN</td>\n",
       "      <td>NaN</td>\n",
       "      <td>NaN</td>\n",
       "      <td>NaN</td>\n",
       "      <td>NaN</td>\n",
       "      <td>NaN</td>\n",
       "      <td>NaN</td>\n",
       "      <td>NaN</td>\n",
       "      <td>NaN</td>\n",
       "      <td>NaN</td>\n",
       "      <td>NaN</td>\n",
       "      <td>NaN</td>\n",
       "    </tr>\n",
       "    <tr>\n",
       "      <th>Gm19938</th>\n",
       "      <td>Gene_expression</td>\n",
       "      <td>NaN</td>\n",
       "      <td>NaN</td>\n",
       "      <td>NaN</td>\n",
       "      <td>NaN</td>\n",
       "      <td>NaN</td>\n",
       "      <td>NaN</td>\n",
       "      <td>NaN</td>\n",
       "      <td>NaN</td>\n",
       "      <td>NaN</td>\n",
       "      <td>NaN</td>\n",
       "      <td>NaN</td>\n",
       "      <td>NaN</td>\n",
       "      <td>NaN</td>\n",
       "      <td>NaN</td>\n",
       "      <td>NaN</td>\n",
       "      <td>NaN</td>\n",
       "      <td>NaN</td>\n",
       "      <td>NaN</td>\n",
       "      <td>NaN</td>\n",
       "    </tr>\n",
       "    <tr>\n",
       "      <th>Gm37381</th>\n",
       "      <td>Gene_expression</td>\n",
       "      <td>NaN</td>\n",
       "      <td>NaN</td>\n",
       "      <td>NaN</td>\n",
       "      <td>NaN</td>\n",
       "      <td>NaN</td>\n",
       "      <td>NaN</td>\n",
       "      <td>NaN</td>\n",
       "      <td>NaN</td>\n",
       "      <td>NaN</td>\n",
       "      <td>NaN</td>\n",
       "      <td>NaN</td>\n",
       "      <td>NaN</td>\n",
       "      <td>NaN</td>\n",
       "      <td>NaN</td>\n",
       "      <td>NaN</td>\n",
       "      <td>NaN</td>\n",
       "      <td>NaN</td>\n",
       "      <td>NaN</td>\n",
       "      <td>NaN</td>\n",
       "    </tr>\n",
       "    <tr>\n",
       "      <th>Rp1</th>\n",
       "      <td>Gene_expression</td>\n",
       "      <td>NaN</td>\n",
       "      <td>NaN</td>\n",
       "      <td>NaN</td>\n",
       "      <td>NaN</td>\n",
       "      <td>NaN</td>\n",
       "      <td>NaN</td>\n",
       "      <td>NaN</td>\n",
       "      <td>NaN</td>\n",
       "      <td>NaN</td>\n",
       "      <td>NaN</td>\n",
       "      <td>NaN</td>\n",
       "      <td>NaN</td>\n",
       "      <td>NaN</td>\n",
       "      <td>NaN</td>\n",
       "      <td>NaN</td>\n",
       "      <td>NaN</td>\n",
       "      <td>NaN</td>\n",
       "      <td>NaN</td>\n",
       "      <td>NaN</td>\n",
       "    </tr>\n",
       "    <tr>\n",
       "      <th>...</th>\n",
       "      <td>...</td>\n",
       "      <td>...</td>\n",
       "      <td>...</td>\n",
       "      <td>...</td>\n",
       "      <td>...</td>\n",
       "      <td>...</td>\n",
       "      <td>...</td>\n",
       "      <td>...</td>\n",
       "      <td>...</td>\n",
       "      <td>...</td>\n",
       "      <td>...</td>\n",
       "      <td>...</td>\n",
       "      <td>...</td>\n",
       "      <td>...</td>\n",
       "      <td>...</td>\n",
       "      <td>...</td>\n",
       "      <td>...</td>\n",
       "      <td>...</td>\n",
       "      <td>...</td>\n",
       "      <td>...</td>\n",
       "    </tr>\n",
       "    <tr>\n",
       "      <th>192247</th>\n",
       "      <td>Peaks</td>\n",
       "      <td>chrX:169902806-169903406</td>\n",
       "      <td>chrX</td>\n",
       "      <td>169902806.0</td>\n",
       "      <td>169903406.0</td>\n",
       "      <td>601.0</td>\n",
       "      <td>*</td>\n",
       "      <td>9.54947</td>\n",
       "      <td>0.251</td>\n",
       "      <td>0.083</td>\n",
       "      <td>2.0</td>\n",
       "      <td>Spinal_cord._.Rep2</td>\n",
       "      <td>123470.0</td>\n",
       "      <td>4933400A11Rik</td>\n",
       "      <td>Intronic</td>\n",
       "      <td>23486.0</td>\n",
       "      <td>uc009rco.1</td>\n",
       "      <td>0.3627</td>\n",
       "      <td>3284.0</td>\n",
       "      <td>0.0</td>\n",
       "    </tr>\n",
       "    <tr>\n",
       "      <th>192248</th>\n",
       "      <td>Peaks</td>\n",
       "      <td>chrX:169905921-169906521</td>\n",
       "      <td>chrX</td>\n",
       "      <td>169905921.0</td>\n",
       "      <td>169906521.0</td>\n",
       "      <td>601.0</td>\n",
       "      <td>*</td>\n",
       "      <td>60.40740</td>\n",
       "      <td>0.857</td>\n",
       "      <td>0.790</td>\n",
       "      <td>2.0</td>\n",
       "      <td>Forebrain_Midbrain_Hindbrain._.Rep1</td>\n",
       "      <td>126585.0</td>\n",
       "      <td>4933400A11Rik</td>\n",
       "      <td>Intronic</td>\n",
       "      <td>20732.0</td>\n",
       "      <td>uc009rco.1</td>\n",
       "      <td>0.4642</td>\n",
       "      <td>3285.0</td>\n",
       "      <td>0.0</td>\n",
       "    </tr>\n",
       "    <tr>\n",
       "      <th>192249</th>\n",
       "      <td>Peaks</td>\n",
       "      <td>chrX:169915616-169916216</td>\n",
       "      <td>chrX</td>\n",
       "      <td>169915616.0</td>\n",
       "      <td>169916216.0</td>\n",
       "      <td>601.0</td>\n",
       "      <td>*</td>\n",
       "      <td>11.75670</td>\n",
       "      <td>0.304</td>\n",
       "      <td>0.088</td>\n",
       "      <td>2.0</td>\n",
       "      <td>Endothelium._.Rep2</td>\n",
       "      <td>136280.0</td>\n",
       "      <td>4933400A11Rik</td>\n",
       "      <td>Intronic</td>\n",
       "      <td>11037.0</td>\n",
       "      <td>uc009rco.1</td>\n",
       "      <td>0.5008</td>\n",
       "      <td>3286.0</td>\n",
       "      <td>0.0</td>\n",
       "    </tr>\n",
       "    <tr>\n",
       "      <th>192250</th>\n",
       "      <td>Peaks</td>\n",
       "      <td>chrX:169925487-169926087</td>\n",
       "      <td>chrX</td>\n",
       "      <td>169925487.0</td>\n",
       "      <td>169926087.0</td>\n",
       "      <td>601.0</td>\n",
       "      <td>*</td>\n",
       "      <td>18.78800</td>\n",
       "      <td>0.557</td>\n",
       "      <td>0.358</td>\n",
       "      <td>2.0</td>\n",
       "      <td>Spinal_cord._.Rep1</td>\n",
       "      <td>146151.0</td>\n",
       "      <td>4933400A11Rik</td>\n",
       "      <td>Intronic</td>\n",
       "      <td>1166.0</td>\n",
       "      <td>uc009rco.1</td>\n",
       "      <td>0.5058</td>\n",
       "      <td>3287.0</td>\n",
       "      <td>0.0</td>\n",
       "    </tr>\n",
       "    <tr>\n",
       "      <th>192251</th>\n",
       "      <td>Peaks</td>\n",
       "      <td>chrX:169937064-169937664</td>\n",
       "      <td>chrX</td>\n",
       "      <td>169937064.0</td>\n",
       "      <td>169937664.0</td>\n",
       "      <td>601.0</td>\n",
       "      <td>*</td>\n",
       "      <td>7.97384</td>\n",
       "      <td>0.230</td>\n",
       "      <td>0.051</td>\n",
       "      <td>2.0</td>\n",
       "      <td>Endothelium._.Rep1</td>\n",
       "      <td>157728.0</td>\n",
       "      <td>4933400A11Rik</td>\n",
       "      <td>Intronic</td>\n",
       "      <td>10409.0</td>\n",
       "      <td>uc009rco.1</td>\n",
       "      <td>0.4210</td>\n",
       "      <td>3288.0</td>\n",
       "      <td>0.0</td>\n",
       "    </tr>\n",
       "  </tbody>\n",
       "</table>\n",
       "<p>224536 rows × 20 columns</p>\n",
       "</div>"
      ],
      "text/plain": [
       "                modality                      peak seqnames        start  \\\n",
       "Xkr4     Gene_expression                       NaN      NaN          NaN   \n",
       "Gm1992   Gene_expression                       NaN      NaN          NaN   \n",
       "Gm19938  Gene_expression                       NaN      NaN          NaN   \n",
       "Gm37381  Gene_expression                       NaN      NaN          NaN   \n",
       "Rp1      Gene_expression                       NaN      NaN          NaN   \n",
       "...                  ...                       ...      ...          ...   \n",
       "192247             Peaks  chrX:169902806-169903406     chrX  169902806.0   \n",
       "192248             Peaks  chrX:169905921-169906521     chrX  169905921.0   \n",
       "192249             Peaks  chrX:169915616-169916216     chrX  169915616.0   \n",
       "192250             Peaks  chrX:169925487-169926087     chrX  169925487.0   \n",
       "192251             Peaks  chrX:169937064-169937664     chrX  169937064.0   \n",
       "\n",
       "                 end  width strand     score  replicateScoreQuantile  \\\n",
       "Xkr4             NaN    NaN    NaN       NaN                     NaN   \n",
       "Gm1992           NaN    NaN    NaN       NaN                     NaN   \n",
       "Gm19938          NaN    NaN    NaN       NaN                     NaN   \n",
       "Gm37381          NaN    NaN    NaN       NaN                     NaN   \n",
       "Rp1              NaN    NaN    NaN       NaN                     NaN   \n",
       "...              ...    ...    ...       ...                     ...   \n",
       "192247   169903406.0  601.0      *   9.54947                   0.251   \n",
       "192248   169906521.0  601.0      *  60.40740                   0.857   \n",
       "192249   169916216.0  601.0      *  11.75670                   0.304   \n",
       "192250   169926087.0  601.0      *  18.78800                   0.557   \n",
       "192251   169937664.0  601.0      *   7.97384                   0.230   \n",
       "\n",
       "         groupScoreQuantile  Reproducibility  \\\n",
       "Xkr4                    NaN              NaN   \n",
       "Gm1992                  NaN              NaN   \n",
       "Gm19938                 NaN              NaN   \n",
       "Gm37381                 NaN              NaN   \n",
       "Rp1                     NaN              NaN   \n",
       "...                     ...              ...   \n",
       "192247                0.083              2.0   \n",
       "192248                0.790              2.0   \n",
       "192249                0.088              2.0   \n",
       "192250                0.358              2.0   \n",
       "192251                0.051              2.0   \n",
       "\n",
       "                              GroupReplicate  distToGeneStart    nearestGene  \\\n",
       "Xkr4                                     NaN              NaN            NaN   \n",
       "Gm1992                                   NaN              NaN            NaN   \n",
       "Gm19938                                  NaN              NaN            NaN   \n",
       "Gm37381                                  NaN              NaN            NaN   \n",
       "Rp1                                      NaN              NaN            NaN   \n",
       "...                                      ...              ...            ...   \n",
       "192247                    Spinal_cord._.Rep2         123470.0  4933400A11Rik   \n",
       "192248   Forebrain_Midbrain_Hindbrain._.Rep1         126585.0  4933400A11Rik   \n",
       "192249                    Endothelium._.Rep2         136280.0  4933400A11Rik   \n",
       "192250                    Spinal_cord._.Rep1         146151.0  4933400A11Rik   \n",
       "192251                    Endothelium._.Rep1         157728.0  4933400A11Rik   \n",
       "\n",
       "         peakType  distToTSS  nearestTSS      GC     idx    N  \n",
       "Xkr4          NaN        NaN         NaN     NaN     NaN  NaN  \n",
       "Gm1992        NaN        NaN         NaN     NaN     NaN  NaN  \n",
       "Gm19938       NaN        NaN         NaN     NaN     NaN  NaN  \n",
       "Gm37381       NaN        NaN         NaN     NaN     NaN  NaN  \n",
       "Rp1           NaN        NaN         NaN     NaN     NaN  NaN  \n",
       "...           ...        ...         ...     ...     ...  ...  \n",
       "192247   Intronic    23486.0  uc009rco.1  0.3627  3284.0  0.0  \n",
       "192248   Intronic    20732.0  uc009rco.1  0.4642  3285.0  0.0  \n",
       "192249   Intronic    11037.0  uc009rco.1  0.5008  3286.0  0.0  \n",
       "192250   Intronic     1166.0  uc009rco.1  0.5058  3287.0  0.0  \n",
       "192251   Intronic    10409.0  uc009rco.1  0.4210  3288.0  0.0  \n",
       "\n",
       "[224536 rows x 20 columns]"
      ]
     },
     "execution_count": 50,
     "metadata": {},
     "output_type": "execute_result"
    }
   ],
   "source": [
    "adata_mvi.var"
   ]
  },
  {
   "cell_type": "code",
   "execution_count": 51,
   "metadata": {},
   "outputs": [],
   "source": [
    "adata_mvi = adata_mvi[:, adata_mvi.var[\"modality\"].argsort()].copy()\n"
   ]
  },
  {
   "cell_type": "code",
   "execution_count": 52,
   "metadata": {},
   "outputs": [
    {
     "name": "stderr",
     "output_type": "stream",
     "text": [
      "/omics/groups/OE0533/internal/katharina/scvi2/lib/python3.7/site-packages/scvi/data/_utils.py:102: UserWarning: Training will be faster when sparse matrix is formatted as CSR. It is safe to cast before model initialization.\n",
      "  \"Training will be faster when sparse matrix is formatted as CSR. It is safe to cast before model initialization.\"\n"
     ]
    }
   ],
   "source": [
    "scvi.model.MULTIVI.setup_anndata(adata_mvi, batch_key='modality')"
   ]
  },
  {
   "cell_type": "code",
   "execution_count": 53,
   "metadata": {},
   "outputs": [
    {
     "data": {
      "text/html": [
       "<pre style=\"white-space:pre;overflow-x:auto;line-height:normal;font-family:Menlo,'DejaVu Sans Mono',consolas,'Courier New',monospace\">Anndata setup with scvi-tools version <span style=\"color: #008080; text-decoration-color: #008080; font-weight: bold\">0.15</span>.<span style=\"color: #008080; text-decoration-color: #008080; font-weight: bold\">0</span>.\n",
       "</pre>\n"
      ],
      "text/plain": [
       "Anndata setup with scvi-tools version \u001b[1;36m0.15\u001b[0m.\u001b[1;36m0\u001b[0m.\n"
      ]
     },
     "metadata": {},
     "output_type": "display_data"
    },
    {
     "data": {
      "text/html": [
       "<pre style=\"white-space:pre;overflow-x:auto;line-height:normal;font-family:Menlo,'DejaVu Sans Mono',consolas,'Courier New',monospace\">\n",
       "</pre>\n"
      ],
      "text/plain": [
       "\n"
      ]
     },
     "metadata": {},
     "output_type": "display_data"
    },
    {
     "data": {
      "text/html": [
       "<pre style=\"white-space:pre;overflow-x:auto;line-height:normal;font-family:Menlo,'DejaVu Sans Mono',consolas,'Courier New',monospace\">Setup via `MULTIVI.setup_anndata` with arguments:\n",
       "</pre>\n"
      ],
      "text/plain": [
       "Setup via `MULTIVI.setup_anndata` with arguments:\n"
      ]
     },
     "metadata": {},
     "output_type": "display_data"
    },
    {
     "data": {
      "text/html": [
       "<pre style=\"white-space:pre;overflow-x:auto;line-height:normal;font-family:Menlo,'DejaVu Sans Mono',consolas,'Courier New',monospace\"><span style=\"font-weight: bold\">{</span>\n",
       "<span style=\"color: #7fbf7f; text-decoration-color: #7fbf7f\">│   </span><span style=\"color: #008000; text-decoration-color: #008000\">'layer'</span>: <span style=\"color: #800080; text-decoration-color: #800080; font-style: italic\">None</span>,\n",
       "<span style=\"color: #7fbf7f; text-decoration-color: #7fbf7f\">│   </span><span style=\"color: #008000; text-decoration-color: #008000\">'batch_key'</span>: <span style=\"color: #008000; text-decoration-color: #008000\">'modality'</span>,\n",
       "<span style=\"color: #7fbf7f; text-decoration-color: #7fbf7f\">│   </span><span style=\"color: #008000; text-decoration-color: #008000\">'labels_key'</span>: <span style=\"color: #800080; text-decoration-color: #800080; font-style: italic\">None</span>,\n",
       "<span style=\"color: #7fbf7f; text-decoration-color: #7fbf7f\">│   </span><span style=\"color: #008000; text-decoration-color: #008000\">'size_factor_key'</span>: <span style=\"color: #800080; text-decoration-color: #800080; font-style: italic\">None</span>,\n",
       "<span style=\"color: #7fbf7f; text-decoration-color: #7fbf7f\">│   </span><span style=\"color: #008000; text-decoration-color: #008000\">'categorical_covariate_keys'</span>: <span style=\"color: #800080; text-decoration-color: #800080; font-style: italic\">None</span>,\n",
       "<span style=\"color: #7fbf7f; text-decoration-color: #7fbf7f\">│   </span><span style=\"color: #008000; text-decoration-color: #008000\">'continuous_covariate_keys'</span>: <span style=\"color: #800080; text-decoration-color: #800080; font-style: italic\">None</span>\n",
       "<span style=\"font-weight: bold\">}</span>\n",
       "</pre>\n"
      ],
      "text/plain": [
       "\u001b[1m{\u001b[0m\n",
       "\u001b[2;32m│   \u001b[0m\u001b[32m'layer'\u001b[0m: \u001b[3;35mNone\u001b[0m,\n",
       "\u001b[2;32m│   \u001b[0m\u001b[32m'batch_key'\u001b[0m: \u001b[32m'modality'\u001b[0m,\n",
       "\u001b[2;32m│   \u001b[0m\u001b[32m'labels_key'\u001b[0m: \u001b[3;35mNone\u001b[0m,\n",
       "\u001b[2;32m│   \u001b[0m\u001b[32m'size_factor_key'\u001b[0m: \u001b[3;35mNone\u001b[0m,\n",
       "\u001b[2;32m│   \u001b[0m\u001b[32m'categorical_covariate_keys'\u001b[0m: \u001b[3;35mNone\u001b[0m,\n",
       "\u001b[2;32m│   \u001b[0m\u001b[32m'continuous_covariate_keys'\u001b[0m: \u001b[3;35mNone\u001b[0m\n",
       "\u001b[1m}\u001b[0m\n"
      ]
     },
     "metadata": {},
     "output_type": "display_data"
    },
    {
     "data": {
      "text/html": [
       "<pre style=\"white-space:pre;overflow-x:auto;line-height:normal;font-family:Menlo,'DejaVu Sans Mono',consolas,'Courier New',monospace\">\n",
       "</pre>\n"
      ],
      "text/plain": [
       "\n"
      ]
     },
     "metadata": {},
     "output_type": "display_data"
    },
    {
     "data": {
      "text/html": [
       "<pre style=\"white-space:pre;overflow-x:auto;line-height:normal;font-family:Menlo,'DejaVu Sans Mono',consolas,'Courier New',monospace\"><span style=\"font-style: italic\">         Summary Statistics          </span>\n",
       "┏━━━━━━━━━━━━━━━━━━━━━━━━━━┳━━━━━━━━┓\n",
       "┃<span style=\"font-weight: bold\">     Summary Stat Key     </span>┃<span style=\"font-weight: bold\"> Value  </span>┃\n",
       "┡━━━━━━━━━━━━━━━━━━━━━━━━━━╇━━━━━━━━┩\n",
       "│<span style=\"color: #0087ff; text-decoration-color: #0087ff\">         n_cells          </span>│<span style=\"color: #af00d7; text-decoration-color: #af00d7\"> 62963  </span>│\n",
       "│<span style=\"color: #0087ff; text-decoration-color: #0087ff\">          n_vars          </span>│<span style=\"color: #af00d7; text-decoration-color: #af00d7\"> 224536 </span>│\n",
       "│<span style=\"color: #0087ff; text-decoration-color: #0087ff\">         n_batch          </span>│<span style=\"color: #af00d7; text-decoration-color: #af00d7\">   1    </span>│\n",
       "│<span style=\"color: #0087ff; text-decoration-color: #0087ff\">         n_labels         </span>│<span style=\"color: #af00d7; text-decoration-color: #af00d7\">   1    </span>│\n",
       "│<span style=\"color: #0087ff; text-decoration-color: #0087ff\"> n_extra_categorical_covs </span>│<span style=\"color: #af00d7; text-decoration-color: #af00d7\">   0    </span>│\n",
       "│<span style=\"color: #0087ff; text-decoration-color: #0087ff\"> n_extra_continuous_covs  </span>│<span style=\"color: #af00d7; text-decoration-color: #af00d7\">   0    </span>│\n",
       "└──────────────────────────┴────────┘\n",
       "</pre>\n"
      ],
      "text/plain": [
       "\u001b[3m         Summary Statistics          \u001b[0m\n",
       "┏━━━━━━━━━━━━━━━━━━━━━━━━━━┳━━━━━━━━┓\n",
       "┃\u001b[1m \u001b[0m\u001b[1m    Summary Stat Key    \u001b[0m\u001b[1m \u001b[0m┃\u001b[1m \u001b[0m\u001b[1mValue \u001b[0m\u001b[1m \u001b[0m┃\n",
       "┡━━━━━━━━━━━━━━━━━━━━━━━━━━╇━━━━━━━━┩\n",
       "│\u001b[38;5;33m \u001b[0m\u001b[38;5;33m        n_cells         \u001b[0m\u001b[38;5;33m \u001b[0m│\u001b[38;5;128m \u001b[0m\u001b[38;5;128m62963 \u001b[0m\u001b[38;5;128m \u001b[0m│\n",
       "│\u001b[38;5;33m \u001b[0m\u001b[38;5;33m         n_vars         \u001b[0m\u001b[38;5;33m \u001b[0m│\u001b[38;5;128m \u001b[0m\u001b[38;5;128m224536\u001b[0m\u001b[38;5;128m \u001b[0m│\n",
       "│\u001b[38;5;33m \u001b[0m\u001b[38;5;33m        n_batch         \u001b[0m\u001b[38;5;33m \u001b[0m│\u001b[38;5;128m \u001b[0m\u001b[38;5;128m  1   \u001b[0m\u001b[38;5;128m \u001b[0m│\n",
       "│\u001b[38;5;33m \u001b[0m\u001b[38;5;33m        n_labels        \u001b[0m\u001b[38;5;33m \u001b[0m│\u001b[38;5;128m \u001b[0m\u001b[38;5;128m  1   \u001b[0m\u001b[38;5;128m \u001b[0m│\n",
       "│\u001b[38;5;33m \u001b[0m\u001b[38;5;33mn_extra_categorical_covs\u001b[0m\u001b[38;5;33m \u001b[0m│\u001b[38;5;128m \u001b[0m\u001b[38;5;128m  0   \u001b[0m\u001b[38;5;128m \u001b[0m│\n",
       "│\u001b[38;5;33m \u001b[0m\u001b[38;5;33mn_extra_continuous_covs \u001b[0m\u001b[38;5;33m \u001b[0m│\u001b[38;5;128m \u001b[0m\u001b[38;5;128m  0   \u001b[0m\u001b[38;5;128m \u001b[0m│\n",
       "└──────────────────────────┴────────┘\n"
      ]
     },
     "metadata": {},
     "output_type": "display_data"
    },
    {
     "data": {
      "text/html": [
       "<pre style=\"white-space:pre;overflow-x:auto;line-height:normal;font-family:Menlo,'DejaVu Sans Mono',consolas,'Courier New',monospace\"><span style=\"font-style: italic\">               Data Registry                </span>\n",
       "┏━━━━━━━━━━━━━━┳━━━━━━━━━━━━━━━━━━━━━━━━━━━┓\n",
       "┃<span style=\"font-weight: bold\"> Registry Key </span>┃<span style=\"font-weight: bold\">    scvi-tools Location    </span>┃\n",
       "┡━━━━━━━━━━━━━━╇━━━━━━━━━━━━━━━━━━━━━━━━━━━┩\n",
       "│<span style=\"color: #0087ff; text-decoration-color: #0087ff\">      X       </span>│<span style=\"color: #af00d7; text-decoration-color: #af00d7\">          adata.X          </span>│\n",
       "│<span style=\"color: #0087ff; text-decoration-color: #0087ff\">    batch     </span>│<span style=\"color: #af00d7; text-decoration-color: #af00d7\"> adata.obs['_scvi_batch']  </span>│\n",
       "│<span style=\"color: #0087ff; text-decoration-color: #0087ff\">    labels    </span>│<span style=\"color: #af00d7; text-decoration-color: #af00d7\"> adata.obs['_scvi_labels'] </span>│\n",
       "└──────────────┴───────────────────────────┘\n",
       "</pre>\n"
      ],
      "text/plain": [
       "\u001b[3m               Data Registry                \u001b[0m\n",
       "┏━━━━━━━━━━━━━━┳━━━━━━━━━━━━━━━━━━━━━━━━━━━┓\n",
       "┃\u001b[1m \u001b[0m\u001b[1mRegistry Key\u001b[0m\u001b[1m \u001b[0m┃\u001b[1m \u001b[0m\u001b[1m   scvi-tools Location   \u001b[0m\u001b[1m \u001b[0m┃\n",
       "┡━━━━━━━━━━━━━━╇━━━━━━━━━━━━━━━━━━━━━━━━━━━┩\n",
       "│\u001b[38;5;33m \u001b[0m\u001b[38;5;33m     X      \u001b[0m\u001b[38;5;33m \u001b[0m│\u001b[38;5;128m \u001b[0m\u001b[38;5;128m         adata.X         \u001b[0m\u001b[38;5;128m \u001b[0m│\n",
       "│\u001b[38;5;33m \u001b[0m\u001b[38;5;33m   batch    \u001b[0m\u001b[38;5;33m \u001b[0m│\u001b[38;5;128m \u001b[0m\u001b[38;5;128madata.obs['_scvi_batch'] \u001b[0m\u001b[38;5;128m \u001b[0m│\n",
       "│\u001b[38;5;33m \u001b[0m\u001b[38;5;33m   labels   \u001b[0m\u001b[38;5;33m \u001b[0m│\u001b[38;5;128m \u001b[0m\u001b[38;5;128madata.obs['_scvi_labels']\u001b[0m\u001b[38;5;128m \u001b[0m│\n",
       "└──────────────┴───────────────────────────┘\n"
      ]
     },
     "metadata": {},
     "output_type": "display_data"
    },
    {
     "data": {
      "text/html": [
       "<pre style=\"white-space:pre;overflow-x:auto;line-height:normal;font-family:Menlo,'DejaVu Sans Mono',consolas,'Courier New',monospace\"><span style=\"font-style: italic\">                    batch State Registry                    </span>\n",
       "┏━━━━━━━━━━━━━━━━━━━━━━━┳━━━━━━━━━━━━┳━━━━━━━━━━━━━━━━━━━━━┓\n",
       "┃<span style=\"font-weight: bold\">    Source Location    </span>┃<span style=\"font-weight: bold\"> Categories </span>┃<span style=\"font-weight: bold\"> scvi-tools Encoding </span>┃\n",
       "┡━━━━━━━━━━━━━━━━━━━━━━━╇━━━━━━━━━━━━╇━━━━━━━━━━━━━━━━━━━━━┩\n",
       "│<span style=\"color: #0087ff; text-decoration-color: #0087ff\"> adata.obs['modality'] </span>│<span style=\"color: #008000; text-decoration-color: #008000\">   paired   </span>│<span style=\"color: #af00d7; text-decoration-color: #af00d7\">          0          </span>│\n",
       "└───────────────────────┴────────────┴─────────────────────┘\n",
       "</pre>\n"
      ],
      "text/plain": [
       "\u001b[3m                    batch State Registry                    \u001b[0m\n",
       "┏━━━━━━━━━━━━━━━━━━━━━━━┳━━━━━━━━━━━━┳━━━━━━━━━━━━━━━━━━━━━┓\n",
       "┃\u001b[1m \u001b[0m\u001b[1m   Source Location   \u001b[0m\u001b[1m \u001b[0m┃\u001b[1m \u001b[0m\u001b[1mCategories\u001b[0m\u001b[1m \u001b[0m┃\u001b[1m \u001b[0m\u001b[1mscvi-tools Encoding\u001b[0m\u001b[1m \u001b[0m┃\n",
       "┡━━━━━━━━━━━━━━━━━━━━━━━╇━━━━━━━━━━━━╇━━━━━━━━━━━━━━━━━━━━━┩\n",
       "│\u001b[38;5;33m \u001b[0m\u001b[38;5;33madata.obs['modality']\u001b[0m\u001b[38;5;33m \u001b[0m│\u001b[32m \u001b[0m\u001b[32m  paired  \u001b[0m\u001b[32m \u001b[0m│\u001b[38;5;128m \u001b[0m\u001b[38;5;128m         0         \u001b[0m\u001b[38;5;128m \u001b[0m│\n",
       "└───────────────────────┴────────────┴─────────────────────┘\n"
      ]
     },
     "metadata": {},
     "output_type": "display_data"
    },
    {
     "data": {
      "text/html": [
       "<pre style=\"white-space:pre;overflow-x:auto;line-height:normal;font-family:Menlo,'DejaVu Sans Mono',consolas,'Courier New',monospace\"><span style=\"font-style: italic\">                     labels State Registry                      </span>\n",
       "┏━━━━━━━━━━━━━━━━━━━━━━━━━━━┳━━━━━━━━━━━━┳━━━━━━━━━━━━━━━━━━━━━┓\n",
       "┃<span style=\"font-weight: bold\">      Source Location      </span>┃<span style=\"font-weight: bold\"> Categories </span>┃<span style=\"font-weight: bold\"> scvi-tools Encoding </span>┃\n",
       "┡━━━━━━━━━━━━━━━━━━━━━━━━━━━╇━━━━━━━━━━━━╇━━━━━━━━━━━━━━━━━━━━━┩\n",
       "│<span style=\"color: #0087ff; text-decoration-color: #0087ff\"> adata.obs['_scvi_labels'] </span>│<span style=\"color: #008000; text-decoration-color: #008000\">     0      </span>│<span style=\"color: #af00d7; text-decoration-color: #af00d7\">          0          </span>│\n",
       "└───────────────────────────┴────────────┴─────────────────────┘\n",
       "</pre>\n"
      ],
      "text/plain": [
       "\u001b[3m                     labels State Registry                      \u001b[0m\n",
       "┏━━━━━━━━━━━━━━━━━━━━━━━━━━━┳━━━━━━━━━━━━┳━━━━━━━━━━━━━━━━━━━━━┓\n",
       "┃\u001b[1m \u001b[0m\u001b[1m     Source Location     \u001b[0m\u001b[1m \u001b[0m┃\u001b[1m \u001b[0m\u001b[1mCategories\u001b[0m\u001b[1m \u001b[0m┃\u001b[1m \u001b[0m\u001b[1mscvi-tools Encoding\u001b[0m\u001b[1m \u001b[0m┃\n",
       "┡━━━━━━━━━━━━━━━━━━━━━━━━━━━╇━━━━━━━━━━━━╇━━━━━━━━━━━━━━━━━━━━━┩\n",
       "│\u001b[38;5;33m \u001b[0m\u001b[38;5;33madata.obs['_scvi_labels']\u001b[0m\u001b[38;5;33m \u001b[0m│\u001b[32m \u001b[0m\u001b[32m    0     \u001b[0m\u001b[32m \u001b[0m│\u001b[38;5;128m \u001b[0m\u001b[38;5;128m         0         \u001b[0m\u001b[38;5;128m \u001b[0m│\n",
       "└───────────────────────────┴────────────┴─────────────────────┘\n"
      ]
     },
     "metadata": {},
     "output_type": "display_data"
    }
   ],
   "source": [
    "mvi = scvi.model.MULTIVI(\n",
    "    adata_mvi,\n",
    "    n_genes=(adata_mvi.var['modality']=='Gene_expression').sum(),\n",
    "    n_regions=(adata_mvi.var['modality']=='Peaks').sum(),\n",
    ")\n",
    "mvi.view_anndata_setup()"
   ]
  },
  {
   "cell_type": "code",
   "execution_count": 54,
   "metadata": {},
   "outputs": [
    {
     "name": "stderr",
     "output_type": "stream",
     "text": [
      "GPU available: False, used: False\n",
      "TPU available: False, using: 0 TPU cores\n",
      "IPU available: False, using: 0 IPUs\n"
     ]
    },
    {
     "name": "stdout",
     "output_type": "stream",
     "text": [
      "Epoch 1/500:   0%|          | 0/500 [00:00<?, ?it/s]"
     ]
    },
    {
     "name": "stderr",
     "output_type": "stream",
     "text": [
      "/omics/groups/OE0533/internal/katharina/scvi2/lib/python3.7/site-packages/pytorch_lightning/trainer/trainer.py:688: UserWarning: Detected KeyboardInterrupt, attempting graceful shutdown...\n",
      "  rank_zero_warn(\"Detected KeyboardInterrupt, attempting graceful shutdown...\")\n"
     ]
    }
   ],
   "source": [
    "mvi.train()"
   ]
  },
  {
   "cell_type": "code",
   "execution_count": null,
   "metadata": {},
   "outputs": [],
   "source": []
  },
  {
   "cell_type": "code",
   "execution_count": null,
   "metadata": {},
   "outputs": [],
   "source": []
  },
  {
   "cell_type": "code",
   "execution_count": null,
   "metadata": {},
   "outputs": [],
   "source": []
  },
  {
   "cell_type": "code",
   "execution_count": null,
   "metadata": {},
   "outputs": [],
   "source": []
  },
  {
   "cell_type": "code",
   "execution_count": 4,
   "metadata": {},
   "outputs": [
    {
     "data": {
      "text/html": [
       "<div>\n",
       "<style scoped>\n",
       "    .dataframe tbody tr th:only-of-type {\n",
       "        vertical-align: middle;\n",
       "    }\n",
       "\n",
       "    .dataframe tbody tr th {\n",
       "        vertical-align: top;\n",
       "    }\n",
       "\n",
       "    .dataframe thead th {\n",
       "        text-align: right;\n",
       "    }\n",
       "</style>\n",
       "<table border=\"1\" class=\"dataframe\">\n",
       "  <thead>\n",
       "    <tr style=\"text-align: right;\">\n",
       "      <th></th>\n",
       "      <th>orig.ident</th>\n",
       "      <th>nCount_RNA</th>\n",
       "      <th>nFeature_RNA</th>\n",
       "      <th>barcode</th>\n",
       "      <th>sample</th>\n",
       "      <th>mitochondrial_percent_RNA</th>\n",
       "      <th>ribosomal_percent_RNA</th>\n",
       "      <th>stage</th>\n",
       "      <th>genotype</th>\n",
       "      <th>pass_rnaQC</th>\n",
       "      <th>...</th>\n",
       "      <th>ReadsInTSS_atac</th>\n",
       "      <th>PromoterRatio_atac</th>\n",
       "      <th>NucleosomeRatio_atac</th>\n",
       "      <th>nFrags_atac</th>\n",
       "      <th>BlacklistRatio_atac</th>\n",
       "      <th>ReadsInPeaks</th>\n",
       "      <th>FRIP</th>\n",
       "      <th>RNA_snn_res.0.6</th>\n",
       "      <th>seurat_clusters</th>\n",
       "      <th>ident</th>\n",
       "    </tr>\n",
       "  </thead>\n",
       "  <tbody>\n",
       "    <tr>\n",
       "      <th>E7.5_rep1#CAAGTTATCGCACAAT-1</th>\n",
       "      <td>E7.5</td>\n",
       "      <td>18561</td>\n",
       "      <td>4717</td>\n",
       "      <td>CAAGTTATCGCACAAT-1</td>\n",
       "      <td>E7.5_rep1</td>\n",
       "      <td>31.33</td>\n",
       "      <td>9.93</td>\n",
       "      <td>E7.5</td>\n",
       "      <td>WT</td>\n",
       "      <td>True</td>\n",
       "      <td>...</td>\n",
       "      <td>10179.0</td>\n",
       "      <td>0.10</td>\n",
       "      <td>2.80</td>\n",
       "      <td>243740.0</td>\n",
       "      <td>0.02</td>\n",
       "      <td>100015.0</td>\n",
       "      <td>0.205277</td>\n",
       "      <td>9</td>\n",
       "      <td>9</td>\n",
       "      <td>9</td>\n",
       "    </tr>\n",
       "    <tr>\n",
       "      <th>E7.5_rep1#TTTAACGAGTTAGACC-1</th>\n",
       "      <td>E7.5</td>\n",
       "      <td>4212</td>\n",
       "      <td>2345</td>\n",
       "      <td>TTTAACGAGTTAGACC-1</td>\n",
       "      <td>E7.5_rep1</td>\n",
       "      <td>3.70</td>\n",
       "      <td>10.85</td>\n",
       "      <td>E7.5</td>\n",
       "      <td>WT</td>\n",
       "      <td>True</td>\n",
       "      <td>...</td>\n",
       "      <td>11419.0</td>\n",
       "      <td>0.14</td>\n",
       "      <td>1.10</td>\n",
       "      <td>178160.0</td>\n",
       "      <td>0.02</td>\n",
       "      <td>96404.0</td>\n",
       "      <td>0.270795</td>\n",
       "      <td>8</td>\n",
       "      <td>8</td>\n",
       "      <td>8</td>\n",
       "    </tr>\n",
       "    <tr>\n",
       "      <th>E7.5_rep1#GTATTGCAGCGGATTT-1</th>\n",
       "      <td>E7.5</td>\n",
       "      <td>6259</td>\n",
       "      <td>3394</td>\n",
       "      <td>GTATTGCAGCGGATTT-1</td>\n",
       "      <td>E7.5_rep1</td>\n",
       "      <td>2.05</td>\n",
       "      <td>7.56</td>\n",
       "      <td>E7.5</td>\n",
       "      <td>WT</td>\n",
       "      <td>True</td>\n",
       "      <td>...</td>\n",
       "      <td>11298.0</td>\n",
       "      <td>0.14</td>\n",
       "      <td>1.31</td>\n",
       "      <td>174003.0</td>\n",
       "      <td>0.02</td>\n",
       "      <td>92711.0</td>\n",
       "      <td>0.266497</td>\n",
       "      <td>9</td>\n",
       "      <td>9</td>\n",
       "      <td>9</td>\n",
       "    </tr>\n",
       "    <tr>\n",
       "      <th>E7.5_rep1#GCTGTACCACTATGGC-1</th>\n",
       "      <td>E7.5</td>\n",
       "      <td>16266</td>\n",
       "      <td>5459</td>\n",
       "      <td>GCTGTACCACTATGGC-1</td>\n",
       "      <td>E7.5_rep1</td>\n",
       "      <td>4.62</td>\n",
       "      <td>5.26</td>\n",
       "      <td>E7.5</td>\n",
       "      <td>WT</td>\n",
       "      <td>True</td>\n",
       "      <td>...</td>\n",
       "      <td>15781.0</td>\n",
       "      <td>0.18</td>\n",
       "      <td>1.25</td>\n",
       "      <td>169021.0</td>\n",
       "      <td>0.02</td>\n",
       "      <td>121526.0</td>\n",
       "      <td>0.359625</td>\n",
       "      <td>3</td>\n",
       "      <td>3</td>\n",
       "      <td>3</td>\n",
       "    </tr>\n",
       "    <tr>\n",
       "      <th>E7.5_rep1#ATTAGCTCACCCACAG-1</th>\n",
       "      <td>E7.5</td>\n",
       "      <td>22993</td>\n",
       "      <td>6041</td>\n",
       "      <td>ATTAGCTCACCCACAG-1</td>\n",
       "      <td>E7.5_rep1</td>\n",
       "      <td>15.31</td>\n",
       "      <td>6.05</td>\n",
       "      <td>E7.5</td>\n",
       "      <td>WT</td>\n",
       "      <td>True</td>\n",
       "      <td>...</td>\n",
       "      <td>10460.0</td>\n",
       "      <td>0.14</td>\n",
       "      <td>1.08</td>\n",
       "      <td>162094.0</td>\n",
       "      <td>0.02</td>\n",
       "      <td>86649.0</td>\n",
       "      <td>0.267386</td>\n",
       "      <td>7</td>\n",
       "      <td>7</td>\n",
       "      <td>7</td>\n",
       "    </tr>\n",
       "    <tr>\n",
       "      <th>...</th>\n",
       "      <td>...</td>\n",
       "      <td>...</td>\n",
       "      <td>...</td>\n",
       "      <td>...</td>\n",
       "      <td>...</td>\n",
       "      <td>...</td>\n",
       "      <td>...</td>\n",
       "      <td>...</td>\n",
       "      <td>...</td>\n",
       "      <td>...</td>\n",
       "      <td>...</td>\n",
       "      <td>...</td>\n",
       "      <td>...</td>\n",
       "      <td>...</td>\n",
       "      <td>...</td>\n",
       "      <td>...</td>\n",
       "      <td>...</td>\n",
       "      <td>...</td>\n",
       "      <td>...</td>\n",
       "      <td>...</td>\n",
       "      <td>...</td>\n",
       "    </tr>\n",
       "    <tr>\n",
       "      <th>E8.5_CRISPR_T_WT#TTCACTGTCAAGGACA-1</th>\n",
       "      <td>E8.5</td>\n",
       "      <td>12792</td>\n",
       "      <td>2359</td>\n",
       "      <td>TTCACTGTCAAGGACA-1</td>\n",
       "      <td>E8.5_CRISPR_T_WT</td>\n",
       "      <td>23.92</td>\n",
       "      <td>11.63</td>\n",
       "      <td>E8.5</td>\n",
       "      <td>WT</td>\n",
       "      <td>True</td>\n",
       "      <td>...</td>\n",
       "      <td>148.0</td>\n",
       "      <td>0.25</td>\n",
       "      <td>0.92</td>\n",
       "      <td>1009.0</td>\n",
       "      <td>0.01</td>\n",
       "      <td>877.0</td>\n",
       "      <td>0.435020</td>\n",
       "      <td>5</td>\n",
       "      <td>5</td>\n",
       "      <td>5</td>\n",
       "    </tr>\n",
       "    <tr>\n",
       "      <th>E8.5_CRISPR_T_WT#CAGTATGGTTCGCTCA-1</th>\n",
       "      <td>E8.5</td>\n",
       "      <td>24500</td>\n",
       "      <td>4347</td>\n",
       "      <td>CAGTATGGTTCGCTCA-1</td>\n",
       "      <td>E8.5_CRISPR_T_WT</td>\n",
       "      <td>8.71</td>\n",
       "      <td>11.53</td>\n",
       "      <td>E8.5</td>\n",
       "      <td>WT</td>\n",
       "      <td>True</td>\n",
       "      <td>...</td>\n",
       "      <td>122.0</td>\n",
       "      <td>0.26</td>\n",
       "      <td>0.72</td>\n",
       "      <td>1008.0</td>\n",
       "      <td>0.01</td>\n",
       "      <td>938.0</td>\n",
       "      <td>0.465278</td>\n",
       "      <td>14</td>\n",
       "      <td>14</td>\n",
       "      <td>14</td>\n",
       "    </tr>\n",
       "    <tr>\n",
       "      <th>E8.5_CRISPR_T_WT#GTTAAGTGTTGCGTAA-1</th>\n",
       "      <td>E8.5</td>\n",
       "      <td>32630</td>\n",
       "      <td>5069</td>\n",
       "      <td>GTTAAGTGTTGCGTAA-1</td>\n",
       "      <td>E8.5_CRISPR_T_WT</td>\n",
       "      <td>7.91</td>\n",
       "      <td>12.53</td>\n",
       "      <td>E8.5</td>\n",
       "      <td>WT</td>\n",
       "      <td>True</td>\n",
       "      <td>...</td>\n",
       "      <td>177.0</td>\n",
       "      <td>0.28</td>\n",
       "      <td>0.71</td>\n",
       "      <td>1005.0</td>\n",
       "      <td>0.02</td>\n",
       "      <td>951.0</td>\n",
       "      <td>0.473134</td>\n",
       "      <td>13</td>\n",
       "      <td>13</td>\n",
       "      <td>13</td>\n",
       "    </tr>\n",
       "    <tr>\n",
       "      <th>E8.5_CRISPR_T_WT#ATCGCTTGTTCACCAT-1</th>\n",
       "      <td>E8.5</td>\n",
       "      <td>38912</td>\n",
       "      <td>5533</td>\n",
       "      <td>ATCGCTTGTTCACCAT-1</td>\n",
       "      <td>E8.5_CRISPR_T_WT</td>\n",
       "      <td>5.94</td>\n",
       "      <td>9.62</td>\n",
       "      <td>E8.5</td>\n",
       "      <td>WT</td>\n",
       "      <td>True</td>\n",
       "      <td>...</td>\n",
       "      <td>119.0</td>\n",
       "      <td>0.19</td>\n",
       "      <td>1.05</td>\n",
       "      <td>1002.0</td>\n",
       "      <td>0.01</td>\n",
       "      <td>878.0</td>\n",
       "      <td>0.438124</td>\n",
       "      <td>12</td>\n",
       "      <td>12</td>\n",
       "      <td>12</td>\n",
       "    </tr>\n",
       "    <tr>\n",
       "      <th>E8.5_CRISPR_T_WT#CTGGTCAAGTTCCTCA-1</th>\n",
       "      <td>E8.5</td>\n",
       "      <td>15852</td>\n",
       "      <td>2636</td>\n",
       "      <td>CTGGTCAAGTTCCTCA-1</td>\n",
       "      <td>E8.5_CRISPR_T_WT</td>\n",
       "      <td>17.06</td>\n",
       "      <td>17.55</td>\n",
       "      <td>E8.5</td>\n",
       "      <td>WT</td>\n",
       "      <td>True</td>\n",
       "      <td>...</td>\n",
       "      <td>99.0</td>\n",
       "      <td>0.19</td>\n",
       "      <td>0.48</td>\n",
       "      <td>1002.0</td>\n",
       "      <td>0.23</td>\n",
       "      <td>840.0</td>\n",
       "      <td>0.419162</td>\n",
       "      <td>1</td>\n",
       "      <td>1</td>\n",
       "      <td>1</td>\n",
       "    </tr>\n",
       "  </tbody>\n",
       "</table>\n",
       "<p>62963 rows × 41 columns</p>\n",
       "</div>"
      ],
      "text/plain": [
       "                                    orig.ident  nCount_RNA  nFeature_RNA  \\\n",
       "E7.5_rep1#CAAGTTATCGCACAAT-1              E7.5       18561          4717   \n",
       "E7.5_rep1#TTTAACGAGTTAGACC-1              E7.5        4212          2345   \n",
       "E7.5_rep1#GTATTGCAGCGGATTT-1              E7.5        6259          3394   \n",
       "E7.5_rep1#GCTGTACCACTATGGC-1              E7.5       16266          5459   \n",
       "E7.5_rep1#ATTAGCTCACCCACAG-1              E7.5       22993          6041   \n",
       "...                                        ...         ...           ...   \n",
       "E8.5_CRISPR_T_WT#TTCACTGTCAAGGACA-1       E8.5       12792          2359   \n",
       "E8.5_CRISPR_T_WT#CAGTATGGTTCGCTCA-1       E8.5       24500          4347   \n",
       "E8.5_CRISPR_T_WT#GTTAAGTGTTGCGTAA-1       E8.5       32630          5069   \n",
       "E8.5_CRISPR_T_WT#ATCGCTTGTTCACCAT-1       E8.5       38912          5533   \n",
       "E8.5_CRISPR_T_WT#CTGGTCAAGTTCCTCA-1       E8.5       15852          2636   \n",
       "\n",
       "                                                barcode            sample  \\\n",
       "E7.5_rep1#CAAGTTATCGCACAAT-1         CAAGTTATCGCACAAT-1         E7.5_rep1   \n",
       "E7.5_rep1#TTTAACGAGTTAGACC-1         TTTAACGAGTTAGACC-1         E7.5_rep1   \n",
       "E7.5_rep1#GTATTGCAGCGGATTT-1         GTATTGCAGCGGATTT-1         E7.5_rep1   \n",
       "E7.5_rep1#GCTGTACCACTATGGC-1         GCTGTACCACTATGGC-1         E7.5_rep1   \n",
       "E7.5_rep1#ATTAGCTCACCCACAG-1         ATTAGCTCACCCACAG-1         E7.5_rep1   \n",
       "...                                                 ...               ...   \n",
       "E8.5_CRISPR_T_WT#TTCACTGTCAAGGACA-1  TTCACTGTCAAGGACA-1  E8.5_CRISPR_T_WT   \n",
       "E8.5_CRISPR_T_WT#CAGTATGGTTCGCTCA-1  CAGTATGGTTCGCTCA-1  E8.5_CRISPR_T_WT   \n",
       "E8.5_CRISPR_T_WT#GTTAAGTGTTGCGTAA-1  GTTAAGTGTTGCGTAA-1  E8.5_CRISPR_T_WT   \n",
       "E8.5_CRISPR_T_WT#ATCGCTTGTTCACCAT-1  ATCGCTTGTTCACCAT-1  E8.5_CRISPR_T_WT   \n",
       "E8.5_CRISPR_T_WT#CTGGTCAAGTTCCTCA-1  CTGGTCAAGTTCCTCA-1  E8.5_CRISPR_T_WT   \n",
       "\n",
       "                                     mitochondrial_percent_RNA  \\\n",
       "E7.5_rep1#CAAGTTATCGCACAAT-1                             31.33   \n",
       "E7.5_rep1#TTTAACGAGTTAGACC-1                              3.70   \n",
       "E7.5_rep1#GTATTGCAGCGGATTT-1                              2.05   \n",
       "E7.5_rep1#GCTGTACCACTATGGC-1                              4.62   \n",
       "E7.5_rep1#ATTAGCTCACCCACAG-1                             15.31   \n",
       "...                                                        ...   \n",
       "E8.5_CRISPR_T_WT#TTCACTGTCAAGGACA-1                      23.92   \n",
       "E8.5_CRISPR_T_WT#CAGTATGGTTCGCTCA-1                       8.71   \n",
       "E8.5_CRISPR_T_WT#GTTAAGTGTTGCGTAA-1                       7.91   \n",
       "E8.5_CRISPR_T_WT#ATCGCTTGTTCACCAT-1                       5.94   \n",
       "E8.5_CRISPR_T_WT#CTGGTCAAGTTCCTCA-1                      17.06   \n",
       "\n",
       "                                     ribosomal_percent_RNA stage genotype  \\\n",
       "E7.5_rep1#CAAGTTATCGCACAAT-1                          9.93  E7.5       WT   \n",
       "E7.5_rep1#TTTAACGAGTTAGACC-1                         10.85  E7.5       WT   \n",
       "E7.5_rep1#GTATTGCAGCGGATTT-1                          7.56  E7.5       WT   \n",
       "E7.5_rep1#GCTGTACCACTATGGC-1                          5.26  E7.5       WT   \n",
       "E7.5_rep1#ATTAGCTCACCCACAG-1                          6.05  E7.5       WT   \n",
       "...                                                    ...   ...      ...   \n",
       "E8.5_CRISPR_T_WT#TTCACTGTCAAGGACA-1                  11.63  E8.5       WT   \n",
       "E8.5_CRISPR_T_WT#CAGTATGGTTCGCTCA-1                  11.53  E8.5       WT   \n",
       "E8.5_CRISPR_T_WT#GTTAAGTGTTGCGTAA-1                  12.53  E8.5       WT   \n",
       "E8.5_CRISPR_T_WT#ATCGCTTGTTCACCAT-1                   9.62  E8.5       WT   \n",
       "E8.5_CRISPR_T_WT#CTGGTCAAGTTCCTCA-1                  17.55  E8.5       WT   \n",
       "\n",
       "                                     pass_rnaQC  ...  ReadsInTSS_atac  \\\n",
       "E7.5_rep1#CAAGTTATCGCACAAT-1               True  ...          10179.0   \n",
       "E7.5_rep1#TTTAACGAGTTAGACC-1               True  ...          11419.0   \n",
       "E7.5_rep1#GTATTGCAGCGGATTT-1               True  ...          11298.0   \n",
       "E7.5_rep1#GCTGTACCACTATGGC-1               True  ...          15781.0   \n",
       "E7.5_rep1#ATTAGCTCACCCACAG-1               True  ...          10460.0   \n",
       "...                                         ...  ...              ...   \n",
       "E8.5_CRISPR_T_WT#TTCACTGTCAAGGACA-1        True  ...            148.0   \n",
       "E8.5_CRISPR_T_WT#CAGTATGGTTCGCTCA-1        True  ...            122.0   \n",
       "E8.5_CRISPR_T_WT#GTTAAGTGTTGCGTAA-1        True  ...            177.0   \n",
       "E8.5_CRISPR_T_WT#ATCGCTTGTTCACCAT-1        True  ...            119.0   \n",
       "E8.5_CRISPR_T_WT#CTGGTCAAGTTCCTCA-1        True  ...             99.0   \n",
       "\n",
       "                                    PromoterRatio_atac NucleosomeRatio_atac  \\\n",
       "E7.5_rep1#CAAGTTATCGCACAAT-1                      0.10                 2.80   \n",
       "E7.5_rep1#TTTAACGAGTTAGACC-1                      0.14                 1.10   \n",
       "E7.5_rep1#GTATTGCAGCGGATTT-1                      0.14                 1.31   \n",
       "E7.5_rep1#GCTGTACCACTATGGC-1                      0.18                 1.25   \n",
       "E7.5_rep1#ATTAGCTCACCCACAG-1                      0.14                 1.08   \n",
       "...                                                ...                  ...   \n",
       "E8.5_CRISPR_T_WT#TTCACTGTCAAGGACA-1               0.25                 0.92   \n",
       "E8.5_CRISPR_T_WT#CAGTATGGTTCGCTCA-1               0.26                 0.72   \n",
       "E8.5_CRISPR_T_WT#GTTAAGTGTTGCGTAA-1               0.28                 0.71   \n",
       "E8.5_CRISPR_T_WT#ATCGCTTGTTCACCAT-1               0.19                 1.05   \n",
       "E8.5_CRISPR_T_WT#CTGGTCAAGTTCCTCA-1               0.19                 0.48   \n",
       "\n",
       "                                     nFrags_atac  BlacklistRatio_atac  \\\n",
       "E7.5_rep1#CAAGTTATCGCACAAT-1            243740.0                 0.02   \n",
       "E7.5_rep1#TTTAACGAGTTAGACC-1            178160.0                 0.02   \n",
       "E7.5_rep1#GTATTGCAGCGGATTT-1            174003.0                 0.02   \n",
       "E7.5_rep1#GCTGTACCACTATGGC-1            169021.0                 0.02   \n",
       "E7.5_rep1#ATTAGCTCACCCACAG-1            162094.0                 0.02   \n",
       "...                                          ...                  ...   \n",
       "E8.5_CRISPR_T_WT#TTCACTGTCAAGGACA-1       1009.0                 0.01   \n",
       "E8.5_CRISPR_T_WT#CAGTATGGTTCGCTCA-1       1008.0                 0.01   \n",
       "E8.5_CRISPR_T_WT#GTTAAGTGTTGCGTAA-1       1005.0                 0.02   \n",
       "E8.5_CRISPR_T_WT#ATCGCTTGTTCACCAT-1       1002.0                 0.01   \n",
       "E8.5_CRISPR_T_WT#CTGGTCAAGTTCCTCA-1       1002.0                 0.23   \n",
       "\n",
       "                                     ReadsInPeaks      FRIP  RNA_snn_res.0.6  \\\n",
       "E7.5_rep1#CAAGTTATCGCACAAT-1             100015.0  0.205277                9   \n",
       "E7.5_rep1#TTTAACGAGTTAGACC-1              96404.0  0.270795                8   \n",
       "E7.5_rep1#GTATTGCAGCGGATTT-1              92711.0  0.266497                9   \n",
       "E7.5_rep1#GCTGTACCACTATGGC-1             121526.0  0.359625                3   \n",
       "E7.5_rep1#ATTAGCTCACCCACAG-1              86649.0  0.267386                7   \n",
       "...                                           ...       ...              ...   \n",
       "E8.5_CRISPR_T_WT#TTCACTGTCAAGGACA-1         877.0  0.435020                5   \n",
       "E8.5_CRISPR_T_WT#CAGTATGGTTCGCTCA-1         938.0  0.465278               14   \n",
       "E8.5_CRISPR_T_WT#GTTAAGTGTTGCGTAA-1         951.0  0.473134               13   \n",
       "E8.5_CRISPR_T_WT#ATCGCTTGTTCACCAT-1         878.0  0.438124               12   \n",
       "E8.5_CRISPR_T_WT#CTGGTCAAGTTCCTCA-1         840.0  0.419162                1   \n",
       "\n",
       "                                     seurat_clusters  ident  \n",
       "E7.5_rep1#CAAGTTATCGCACAAT-1                       9      9  \n",
       "E7.5_rep1#TTTAACGAGTTAGACC-1                       8      8  \n",
       "E7.5_rep1#GTATTGCAGCGGATTT-1                       9      9  \n",
       "E7.5_rep1#GCTGTACCACTATGGC-1                       3      3  \n",
       "E7.5_rep1#ATTAGCTCACCCACAG-1                       7      7  \n",
       "...                                              ...    ...  \n",
       "E8.5_CRISPR_T_WT#TTCACTGTCAAGGACA-1                5      5  \n",
       "E8.5_CRISPR_T_WT#CAGTATGGTTCGCTCA-1               14     14  \n",
       "E8.5_CRISPR_T_WT#GTTAAGTGTTGCGTAA-1               13     13  \n",
       "E8.5_CRISPR_T_WT#ATCGCTTGTTCACCAT-1               12     12  \n",
       "E8.5_CRISPR_T_WT#CTGGTCAAGTTCCTCA-1                1      1  \n",
       "\n",
       "[62963 rows x 41 columns]"
      ]
     },
     "execution_count": 4,
     "metadata": {},
     "output_type": "execute_result"
    }
   ],
   "source": [
    "rna_adata.obs"
   ]
  },
  {
   "cell_type": "code",
   "execution_count": 5,
   "metadata": {},
   "outputs": [],
   "source": [
    "#adata.var_names_make_unique()\n",
    "rna_adata.var_names_make_unique()\n",
    "atac_adata.var_names_make_unique()"
   ]
  },
  {
   "cell_type": "code",
   "execution_count": 6,
   "metadata": {},
   "outputs": [],
   "source": [
    "old = scvi.data.read_h5ad(\"/omics/groups/OE0533/internal/katharina/scDoRI/gastrulation_data/old_data_three_timepoints/anndata_rna.h5ad\")"
   ]
  },
  {
   "cell_type": "code",
   "execution_count": 7,
   "metadata": {},
   "outputs": [],
   "source": [
    "rna_adata = rna_adata[:,rna_adata.var.index.isin(old.var.index)]"
   ]
  },
  {
   "cell_type": "code",
   "execution_count": 8,
   "metadata": {},
   "outputs": [],
   "source": [
    "annotations = pd.merge(old.var, rna_adata.var, on=\"gene\", how = \"inner\")\n",
    "annotations.index = old.var.index"
   ]
  },
  {
   "cell_type": "code",
   "execution_count": 9,
   "metadata": {},
   "outputs": [],
   "source": [
    "annotations = annotations.drop([\"gene\", \"Strand\"], axis=1)"
   ]
  },
  {
   "cell_type": "code",
   "execution_count": 10,
   "metadata": {},
   "outputs": [],
   "source": [
    "annotations = annotations.rename(columns={\"Accession\":\"ID\", \"End\":\"end\", \"Start\":\"start\", \"Chromosome\":\"chr\"})"
   ]
  },
  {
   "cell_type": "code",
   "execution_count": 11,
   "metadata": {},
   "outputs": [],
   "source": [
    "rna_adata.var = annotations"
   ]
  },
  {
   "cell_type": "code",
   "execution_count": 12,
   "metadata": {},
   "outputs": [],
   "source": [
    "matrix = sparse.hstack((rna_adata.X, atac_adata.X))"
   ]
  },
  {
   "cell_type": "code",
   "execution_count": 13,
   "metadata": {},
   "outputs": [
    {
     "data": {
      "text/html": [
       "<div>\n",
       "<style scoped>\n",
       "    .dataframe tbody tr th:only-of-type {\n",
       "        vertical-align: middle;\n",
       "    }\n",
       "\n",
       "    .dataframe tbody tr th {\n",
       "        vertical-align: top;\n",
       "    }\n",
       "\n",
       "    .dataframe thead th {\n",
       "        text-align: right;\n",
       "    }\n",
       "</style>\n",
       "<table border=\"1\" class=\"dataframe\">\n",
       "  <thead>\n",
       "    <tr style=\"text-align: right;\">\n",
       "      <th></th>\n",
       "      <th>ID</th>\n",
       "      <th>chr</th>\n",
       "      <th>end</th>\n",
       "      <th>start</th>\n",
       "      <th>modality</th>\n",
       "    </tr>\n",
       "  </thead>\n",
       "  <tbody>\n",
       "    <tr>\n",
       "      <th>Xkr4</th>\n",
       "      <td>ENSMUSG00000051951</td>\n",
       "      <td>1</td>\n",
       "      <td>3671498</td>\n",
       "      <td>3205901</td>\n",
       "      <td>Gene_expression</td>\n",
       "    </tr>\n",
       "    <tr>\n",
       "      <th>Gm1992</th>\n",
       "      <td>ENSMUSG00000089699</td>\n",
       "      <td>1</td>\n",
       "      <td>3513553</td>\n",
       "      <td>3466587</td>\n",
       "      <td>Gene_expression</td>\n",
       "    </tr>\n",
       "    <tr>\n",
       "      <th>Gm19938</th>\n",
       "      <td>ENSMUSG00000102331</td>\n",
       "      <td>1</td>\n",
       "      <td>3658904</td>\n",
       "      <td>3647309</td>\n",
       "      <td>Gene_expression</td>\n",
       "    </tr>\n",
       "    <tr>\n",
       "      <th>Gm37381</th>\n",
       "      <td>ENSMUSG00000102343</td>\n",
       "      <td>1</td>\n",
       "      <td>3986215</td>\n",
       "      <td>3905739</td>\n",
       "      <td>Gene_expression</td>\n",
       "    </tr>\n",
       "    <tr>\n",
       "      <th>Rp1</th>\n",
       "      <td>ENSMUSG00000025900</td>\n",
       "      <td>1</td>\n",
       "      <td>4409241</td>\n",
       "      <td>3999557</td>\n",
       "      <td>Gene_expression</td>\n",
       "    </tr>\n",
       "    <tr>\n",
       "      <th>...</th>\n",
       "      <td>...</td>\n",
       "      <td>...</td>\n",
       "      <td>...</td>\n",
       "      <td>...</td>\n",
       "      <td>...</td>\n",
       "    </tr>\n",
       "    <tr>\n",
       "      <th>AC124606.1</th>\n",
       "      <td>ENSMUSG00000095523</td>\n",
       "      <td>JH584299.1</td>\n",
       "      <td>840451</td>\n",
       "      <td>837364</td>\n",
       "      <td>Gene_expression</td>\n",
       "    </tr>\n",
       "    <tr>\n",
       "      <th>AC133095.2</th>\n",
       "      <td>ENSMUSG00000095475</td>\n",
       "      <td>JH584299.1</td>\n",
       "      <td>913083</td>\n",
       "      <td>910289</td>\n",
       "      <td>Gene_expression</td>\n",
       "    </tr>\n",
       "    <tr>\n",
       "      <th>AC133095.1</th>\n",
       "      <td>ENSMUSG00000094855</td>\n",
       "      <td>JH584299.1</td>\n",
       "      <td>924675</td>\n",
       "      <td>921942</td>\n",
       "      <td>Gene_expression</td>\n",
       "    </tr>\n",
       "    <tr>\n",
       "      <th>AC234645.1</th>\n",
       "      <td>ENSMUSG00000095019</td>\n",
       "      <td>JH584303.1</td>\n",
       "      <td>82689</td>\n",
       "      <td>81607</td>\n",
       "      <td>Gene_expression</td>\n",
       "    </tr>\n",
       "    <tr>\n",
       "      <th>AC149090.1</th>\n",
       "      <td>ENSMUSG00000095041</td>\n",
       "      <td>JH584304.1</td>\n",
       "      <td>59690</td>\n",
       "      <td>52190</td>\n",
       "      <td>Gene_expression</td>\n",
       "    </tr>\n",
       "  </tbody>\n",
       "</table>\n",
       "<p>32245 rows × 5 columns</p>\n",
       "</div>"
      ],
      "text/plain": [
       "                            ID         chr      end    start         modality\n",
       "Xkr4        ENSMUSG00000051951           1  3671498  3205901  Gene_expression\n",
       "Gm1992      ENSMUSG00000089699           1  3513553  3466587  Gene_expression\n",
       "Gm19938     ENSMUSG00000102331           1  3658904  3647309  Gene_expression\n",
       "Gm37381     ENSMUSG00000102343           1  3986215  3905739  Gene_expression\n",
       "Rp1         ENSMUSG00000025900           1  4409241  3999557  Gene_expression\n",
       "...                        ...         ...      ...      ...              ...\n",
       "AC124606.1  ENSMUSG00000095523  JH584299.1   840451   837364  Gene_expression\n",
       "AC133095.2  ENSMUSG00000095475  JH584299.1   913083   910289  Gene_expression\n",
       "AC133095.1  ENSMUSG00000094855  JH584299.1   924675   921942  Gene_expression\n",
       "AC234645.1  ENSMUSG00000095019  JH584303.1    82689    81607  Gene_expression\n",
       "AC149090.1  ENSMUSG00000095041  JH584304.1    59690    52190  Gene_expression\n",
       "\n",
       "[32245 rows x 5 columns]"
      ]
     },
     "execution_count": 13,
     "metadata": {},
     "output_type": "execute_result"
    }
   ],
   "source": [
    "rna_df = rna_adata.var\n",
    "#rna_df = rna_df.rename(columns = {\"gene\":\"ID\"})\n",
    "rna_df[\"modality\"] = [\"Gene_expression\" for i in range(len(rna_df))]\n",
    "rna_df"
   ]
  },
  {
   "cell_type": "code",
   "execution_count": 14,
   "metadata": {},
   "outputs": [],
   "source": [
    "atac_df = atac_adata.var\n",
    "atac_df = atac_df.rename(columns={\"idx\":\"ID\"})\n",
    "atac_df[\"modality\"]=[\"Peaks\" for i in range(len(atac_df))]"
   ]
  },
  {
   "cell_type": "code",
   "execution_count": 15,
   "metadata": {},
   "outputs": [],
   "source": [
    "atac_df = atac_df.drop([\"score\"], axis = 1)"
   ]
  },
  {
   "cell_type": "code",
   "execution_count": 16,
   "metadata": {},
   "outputs": [
    {
     "data": {
      "text/html": [
       "<div>\n",
       "<style scoped>\n",
       "    .dataframe tbody tr th:only-of-type {\n",
       "        vertical-align: middle;\n",
       "    }\n",
       "\n",
       "    .dataframe tbody tr th {\n",
       "        vertical-align: top;\n",
       "    }\n",
       "\n",
       "    .dataframe thead th {\n",
       "        text-align: right;\n",
       "    }\n",
       "</style>\n",
       "<table border=\"1\" class=\"dataframe\">\n",
       "  <thead>\n",
       "    <tr style=\"text-align: right;\">\n",
       "      <th></th>\n",
       "      <th>chr</th>\n",
       "      <th>start</th>\n",
       "      <th>end</th>\n",
       "      <th>ID</th>\n",
       "      <th>modality</th>\n",
       "    </tr>\n",
       "  </thead>\n",
       "  <tbody>\n",
       "    <tr>\n",
       "      <th>chr1:3035600-3036200</th>\n",
       "      <td>chr1</td>\n",
       "      <td>3035600</td>\n",
       "      <td>3036200</td>\n",
       "      <td>chr1:3035600-3036200</td>\n",
       "      <td>Peaks</td>\n",
       "    </tr>\n",
       "    <tr>\n",
       "      <th>chr1:3062691-3063291</th>\n",
       "      <td>chr1</td>\n",
       "      <td>3062691</td>\n",
       "      <td>3063291</td>\n",
       "      <td>chr1:3062691-3063291</td>\n",
       "      <td>Peaks</td>\n",
       "    </tr>\n",
       "    <tr>\n",
       "      <th>chr1:3072272-3072872</th>\n",
       "      <td>chr1</td>\n",
       "      <td>3072272</td>\n",
       "      <td>3072872</td>\n",
       "      <td>chr1:3072272-3072872</td>\n",
       "      <td>Peaks</td>\n",
       "    </tr>\n",
       "    <tr>\n",
       "      <th>chr1:3191513-3192113</th>\n",
       "      <td>chr1</td>\n",
       "      <td>3191513</td>\n",
       "      <td>3192113</td>\n",
       "      <td>chr1:3191513-3192113</td>\n",
       "      <td>Peaks</td>\n",
       "    </tr>\n",
       "    <tr>\n",
       "      <th>chr1:3466250-3466850</th>\n",
       "      <td>chr1</td>\n",
       "      <td>3466250</td>\n",
       "      <td>3466850</td>\n",
       "      <td>chr1:3466250-3466850</td>\n",
       "      <td>Peaks</td>\n",
       "    </tr>\n",
       "    <tr>\n",
       "      <th>...</th>\n",
       "      <td>...</td>\n",
       "      <td>...</td>\n",
       "      <td>...</td>\n",
       "      <td>...</td>\n",
       "      <td>...</td>\n",
       "    </tr>\n",
       "    <tr>\n",
       "      <th>chrX:169883288-169883888</th>\n",
       "      <td>chrX</td>\n",
       "      <td>169883288</td>\n",
       "      <td>169883888</td>\n",
       "      <td>chrX:169883288-169883888</td>\n",
       "      <td>Peaks</td>\n",
       "    </tr>\n",
       "    <tr>\n",
       "      <th>chrX:169899093-169899693</th>\n",
       "      <td>chrX</td>\n",
       "      <td>169899093</td>\n",
       "      <td>169899693</td>\n",
       "      <td>chrX:169899093-169899693</td>\n",
       "      <td>Peaks</td>\n",
       "    </tr>\n",
       "    <tr>\n",
       "      <th>chrX:169906016-169906616</th>\n",
       "      <td>chrX</td>\n",
       "      <td>169906016</td>\n",
       "      <td>169906616</td>\n",
       "      <td>chrX:169906016-169906616</td>\n",
       "      <td>Peaks</td>\n",
       "    </tr>\n",
       "    <tr>\n",
       "      <th>chrX:169915632-169916232</th>\n",
       "      <td>chrX</td>\n",
       "      <td>169915632</td>\n",
       "      <td>169916232</td>\n",
       "      <td>chrX:169915632-169916232</td>\n",
       "      <td>Peaks</td>\n",
       "    </tr>\n",
       "    <tr>\n",
       "      <th>chrX:169925539-169926139</th>\n",
       "      <td>chrX</td>\n",
       "      <td>169925539</td>\n",
       "      <td>169926139</td>\n",
       "      <td>chrX:169925539-169926139</td>\n",
       "      <td>Peaks</td>\n",
       "    </tr>\n",
       "  </tbody>\n",
       "</table>\n",
       "<p>180499 rows × 5 columns</p>\n",
       "</div>"
      ],
      "text/plain": [
       "                           chr      start        end  \\\n",
       "chr1:3035600-3036200      chr1    3035600    3036200   \n",
       "chr1:3062691-3063291      chr1    3062691    3063291   \n",
       "chr1:3072272-3072872      chr1    3072272    3072872   \n",
       "chr1:3191513-3192113      chr1    3191513    3192113   \n",
       "chr1:3466250-3466850      chr1    3466250    3466850   \n",
       "...                        ...        ...        ...   \n",
       "chrX:169883288-169883888  chrX  169883288  169883888   \n",
       "chrX:169899093-169899693  chrX  169899093  169899693   \n",
       "chrX:169906016-169906616  chrX  169906016  169906616   \n",
       "chrX:169915632-169916232  chrX  169915632  169916232   \n",
       "chrX:169925539-169926139  chrX  169925539  169926139   \n",
       "\n",
       "                                                ID modality  \n",
       "chr1:3035600-3036200          chr1:3035600-3036200    Peaks  \n",
       "chr1:3062691-3063291          chr1:3062691-3063291    Peaks  \n",
       "chr1:3072272-3072872          chr1:3072272-3072872    Peaks  \n",
       "chr1:3191513-3192113          chr1:3191513-3192113    Peaks  \n",
       "chr1:3466250-3466850          chr1:3466250-3466850    Peaks  \n",
       "...                                            ...      ...  \n",
       "chrX:169883288-169883888  chrX:169883288-169883888    Peaks  \n",
       "chrX:169899093-169899693  chrX:169899093-169899693    Peaks  \n",
       "chrX:169906016-169906616  chrX:169906016-169906616    Peaks  \n",
       "chrX:169915632-169916232  chrX:169915632-169916232    Peaks  \n",
       "chrX:169925539-169926139  chrX:169925539-169926139    Peaks  \n",
       "\n",
       "[180499 rows x 5 columns]"
      ]
     },
     "execution_count": 16,
     "metadata": {},
     "output_type": "execute_result"
    }
   ],
   "source": [
    "atac_df"
   ]
  },
  {
   "cell_type": "code",
   "execution_count": 17,
   "metadata": {},
   "outputs": [],
   "source": [
    "df = rna_df.append(atac_df)"
   ]
  },
  {
   "cell_type": "code",
   "execution_count": 18,
   "metadata": {},
   "outputs": [],
   "source": [
    "multiome = AnnData(\n",
    "X = matrix,\n",
    "obs = atac_adata.obs,\n",
    "var = df,\n",
    "uns = rna_adata.uns)"
   ]
  },
  {
   "cell_type": "code",
   "execution_count": 19,
   "metadata": {},
   "outputs": [
    {
     "data": {
      "text/plain": [
       "(45991, 212744)"
      ]
     },
     "execution_count": 19,
     "metadata": {},
     "output_type": "execute_result"
    }
   ],
   "source": [
    "multiome.shape"
   ]
  },
  {
   "cell_type": "code",
   "execution_count": 20,
   "metadata": {},
   "outputs": [],
   "source": [
    "adata_mvi = scvi.data.organize_multiome_anndatas(multiome)\n"
   ]
  },
  {
   "cell_type": "code",
   "execution_count": 21,
   "metadata": {},
   "outputs": [],
   "source": [
    "adata_mvi = adata_mvi[:, adata_mvi.var[\"modality\"].argsort()].copy()\n"
   ]
  },
  {
   "cell_type": "code",
   "execution_count": 22,
   "metadata": {},
   "outputs": [
    {
     "name": "stdout",
     "output_type": "stream",
     "text": [
      "(45991, 212744)\n",
      "(45991, 186627)\n"
     ]
    }
   ],
   "source": [
    "print(adata_mvi.shape)\n",
    "sc.pp.filter_genes(adata_mvi, min_cells=int(adata_mvi.shape[0] * 0.01))\n",
    "print(adata_mvi.shape)"
   ]
  },
  {
   "cell_type": "code",
   "execution_count": 23,
   "metadata": {},
   "outputs": [
    {
     "name": "stderr",
     "output_type": "stream",
     "text": [
      "/omics/groups/OE0533/internal/katharina/scvi2/lib/python3.7/site-packages/scvi/data/_utils.py:102: UserWarning: Training will be faster when sparse matrix is formatted as CSR. It is safe to cast before model initialization.\n",
      "  \"Training will be faster when sparse matrix is formatted as CSR. It is safe to cast before model initialization.\"\n"
     ]
    }
   ],
   "source": [
    "scvi.model.MULTIVI.setup_anndata(adata_mvi, batch_key='modality')"
   ]
  },
  {
   "cell_type": "code",
   "execution_count": 26,
   "metadata": {},
   "outputs": [
    {
     "data": {
      "text/html": [
       "<pre style=\"white-space:pre;overflow-x:auto;line-height:normal;font-family:Menlo,'DejaVu Sans Mono',consolas,'Courier New',monospace\">Anndata setup with scvi-tools version <span style=\"color: #008080; text-decoration-color: #008080; font-weight: bold\">0.15</span>.<span style=\"color: #008080; text-decoration-color: #008080; font-weight: bold\">0</span>.\n",
       "</pre>\n"
      ],
      "text/plain": [
       "Anndata setup with scvi-tools version \u001b[1;36m0.15\u001b[0m.\u001b[1;36m0\u001b[0m.\n"
      ]
     },
     "metadata": {},
     "output_type": "display_data"
    },
    {
     "data": {
      "text/html": [
       "<pre style=\"white-space:pre;overflow-x:auto;line-height:normal;font-family:Menlo,'DejaVu Sans Mono',consolas,'Courier New',monospace\">\n",
       "</pre>\n"
      ],
      "text/plain": [
       "\n"
      ]
     },
     "metadata": {},
     "output_type": "display_data"
    },
    {
     "data": {
      "text/html": [
       "<pre style=\"white-space:pre;overflow-x:auto;line-height:normal;font-family:Menlo,'DejaVu Sans Mono',consolas,'Courier New',monospace\">Setup via `MULTIVI.setup_anndata` with arguments:\n",
       "</pre>\n"
      ],
      "text/plain": [
       "Setup via `MULTIVI.setup_anndata` with arguments:\n"
      ]
     },
     "metadata": {},
     "output_type": "display_data"
    },
    {
     "data": {
      "text/html": [
       "<pre style=\"white-space:pre;overflow-x:auto;line-height:normal;font-family:Menlo,'DejaVu Sans Mono',consolas,'Courier New',monospace\"><span style=\"font-weight: bold\">{</span>\n",
       "<span style=\"color: #7fbf7f; text-decoration-color: #7fbf7f\">│   </span><span style=\"color: #008000; text-decoration-color: #008000\">'layer'</span>: <span style=\"color: #800080; text-decoration-color: #800080; font-style: italic\">None</span>,\n",
       "<span style=\"color: #7fbf7f; text-decoration-color: #7fbf7f\">│   </span><span style=\"color: #008000; text-decoration-color: #008000\">'batch_key'</span>: <span style=\"color: #008000; text-decoration-color: #008000\">'modality'</span>,\n",
       "<span style=\"color: #7fbf7f; text-decoration-color: #7fbf7f\">│   </span><span style=\"color: #008000; text-decoration-color: #008000\">'labels_key'</span>: <span style=\"color: #800080; text-decoration-color: #800080; font-style: italic\">None</span>,\n",
       "<span style=\"color: #7fbf7f; text-decoration-color: #7fbf7f\">│   </span><span style=\"color: #008000; text-decoration-color: #008000\">'size_factor_key'</span>: <span style=\"color: #800080; text-decoration-color: #800080; font-style: italic\">None</span>,\n",
       "<span style=\"color: #7fbf7f; text-decoration-color: #7fbf7f\">│   </span><span style=\"color: #008000; text-decoration-color: #008000\">'categorical_covariate_keys'</span>: <span style=\"color: #800080; text-decoration-color: #800080; font-style: italic\">None</span>,\n",
       "<span style=\"color: #7fbf7f; text-decoration-color: #7fbf7f\">│   </span><span style=\"color: #008000; text-decoration-color: #008000\">'continuous_covariate_keys'</span>: <span style=\"color: #800080; text-decoration-color: #800080; font-style: italic\">None</span>\n",
       "<span style=\"font-weight: bold\">}</span>\n",
       "</pre>\n"
      ],
      "text/plain": [
       "\u001b[1m{\u001b[0m\n",
       "\u001b[2;32m│   \u001b[0m\u001b[32m'layer'\u001b[0m: \u001b[3;35mNone\u001b[0m,\n",
       "\u001b[2;32m│   \u001b[0m\u001b[32m'batch_key'\u001b[0m: \u001b[32m'modality'\u001b[0m,\n",
       "\u001b[2;32m│   \u001b[0m\u001b[32m'labels_key'\u001b[0m: \u001b[3;35mNone\u001b[0m,\n",
       "\u001b[2;32m│   \u001b[0m\u001b[32m'size_factor_key'\u001b[0m: \u001b[3;35mNone\u001b[0m,\n",
       "\u001b[2;32m│   \u001b[0m\u001b[32m'categorical_covariate_keys'\u001b[0m: \u001b[3;35mNone\u001b[0m,\n",
       "\u001b[2;32m│   \u001b[0m\u001b[32m'continuous_covariate_keys'\u001b[0m: \u001b[3;35mNone\u001b[0m\n",
       "\u001b[1m}\u001b[0m\n"
      ]
     },
     "metadata": {},
     "output_type": "display_data"
    },
    {
     "data": {
      "text/html": [
       "<pre style=\"white-space:pre;overflow-x:auto;line-height:normal;font-family:Menlo,'DejaVu Sans Mono',consolas,'Courier New',monospace\">\n",
       "</pre>\n"
      ],
      "text/plain": [
       "\n"
      ]
     },
     "metadata": {},
     "output_type": "display_data"
    },
    {
     "data": {
      "text/html": [
       "<pre style=\"white-space:pre;overflow-x:auto;line-height:normal;font-family:Menlo,'DejaVu Sans Mono',consolas,'Courier New',monospace\"><span style=\"font-style: italic\">         Summary Statistics          </span>\n",
       "┏━━━━━━━━━━━━━━━━━━━━━━━━━━┳━━━━━━━━┓\n",
       "┃<span style=\"font-weight: bold\">     Summary Stat Key     </span>┃<span style=\"font-weight: bold\"> Value  </span>┃\n",
       "┡━━━━━━━━━━━━━━━━━━━━━━━━━━╇━━━━━━━━┩\n",
       "│<span style=\"color: #0087ff; text-decoration-color: #0087ff\">         n_cells          </span>│<span style=\"color: #af00d7; text-decoration-color: #af00d7\"> 45991  </span>│\n",
       "│<span style=\"color: #0087ff; text-decoration-color: #0087ff\">          n_vars          </span>│<span style=\"color: #af00d7; text-decoration-color: #af00d7\"> 186627 </span>│\n",
       "│<span style=\"color: #0087ff; text-decoration-color: #0087ff\">         n_batch          </span>│<span style=\"color: #af00d7; text-decoration-color: #af00d7\">   1    </span>│\n",
       "│<span style=\"color: #0087ff; text-decoration-color: #0087ff\">         n_labels         </span>│<span style=\"color: #af00d7; text-decoration-color: #af00d7\">   1    </span>│\n",
       "│<span style=\"color: #0087ff; text-decoration-color: #0087ff\"> n_extra_categorical_covs </span>│<span style=\"color: #af00d7; text-decoration-color: #af00d7\">   0    </span>│\n",
       "│<span style=\"color: #0087ff; text-decoration-color: #0087ff\"> n_extra_continuous_covs  </span>│<span style=\"color: #af00d7; text-decoration-color: #af00d7\">   0    </span>│\n",
       "└──────────────────────────┴────────┘\n",
       "</pre>\n"
      ],
      "text/plain": [
       "\u001b[3m         Summary Statistics          \u001b[0m\n",
       "┏━━━━━━━━━━━━━━━━━━━━━━━━━━┳━━━━━━━━┓\n",
       "┃\u001b[1m \u001b[0m\u001b[1m    Summary Stat Key    \u001b[0m\u001b[1m \u001b[0m┃\u001b[1m \u001b[0m\u001b[1mValue \u001b[0m\u001b[1m \u001b[0m┃\n",
       "┡━━━━━━━━━━━━━━━━━━━━━━━━━━╇━━━━━━━━┩\n",
       "│\u001b[38;5;33m \u001b[0m\u001b[38;5;33m        n_cells         \u001b[0m\u001b[38;5;33m \u001b[0m│\u001b[38;5;128m \u001b[0m\u001b[38;5;128m45991 \u001b[0m\u001b[38;5;128m \u001b[0m│\n",
       "│\u001b[38;5;33m \u001b[0m\u001b[38;5;33m         n_vars         \u001b[0m\u001b[38;5;33m \u001b[0m│\u001b[38;5;128m \u001b[0m\u001b[38;5;128m186627\u001b[0m\u001b[38;5;128m \u001b[0m│\n",
       "│\u001b[38;5;33m \u001b[0m\u001b[38;5;33m        n_batch         \u001b[0m\u001b[38;5;33m \u001b[0m│\u001b[38;5;128m \u001b[0m\u001b[38;5;128m  1   \u001b[0m\u001b[38;5;128m \u001b[0m│\n",
       "│\u001b[38;5;33m \u001b[0m\u001b[38;5;33m        n_labels        \u001b[0m\u001b[38;5;33m \u001b[0m│\u001b[38;5;128m \u001b[0m\u001b[38;5;128m  1   \u001b[0m\u001b[38;5;128m \u001b[0m│\n",
       "│\u001b[38;5;33m \u001b[0m\u001b[38;5;33mn_extra_categorical_covs\u001b[0m\u001b[38;5;33m \u001b[0m│\u001b[38;5;128m \u001b[0m\u001b[38;5;128m  0   \u001b[0m\u001b[38;5;128m \u001b[0m│\n",
       "│\u001b[38;5;33m \u001b[0m\u001b[38;5;33mn_extra_continuous_covs \u001b[0m\u001b[38;5;33m \u001b[0m│\u001b[38;5;128m \u001b[0m\u001b[38;5;128m  0   \u001b[0m\u001b[38;5;128m \u001b[0m│\n",
       "└──────────────────────────┴────────┘\n"
      ]
     },
     "metadata": {},
     "output_type": "display_data"
    },
    {
     "data": {
      "text/html": [
       "<pre style=\"white-space:pre;overflow-x:auto;line-height:normal;font-family:Menlo,'DejaVu Sans Mono',consolas,'Courier New',monospace\"><span style=\"font-style: italic\">               Data Registry                </span>\n",
       "┏━━━━━━━━━━━━━━┳━━━━━━━━━━━━━━━━━━━━━━━━━━━┓\n",
       "┃<span style=\"font-weight: bold\"> Registry Key </span>┃<span style=\"font-weight: bold\">    scvi-tools Location    </span>┃\n",
       "┡━━━━━━━━━━━━━━╇━━━━━━━━━━━━━━━━━━━━━━━━━━━┩\n",
       "│<span style=\"color: #0087ff; text-decoration-color: #0087ff\">      X       </span>│<span style=\"color: #af00d7; text-decoration-color: #af00d7\">          adata.X          </span>│\n",
       "│<span style=\"color: #0087ff; text-decoration-color: #0087ff\">    batch     </span>│<span style=\"color: #af00d7; text-decoration-color: #af00d7\"> adata.obs['_scvi_batch']  </span>│\n",
       "│<span style=\"color: #0087ff; text-decoration-color: #0087ff\">    labels    </span>│<span style=\"color: #af00d7; text-decoration-color: #af00d7\"> adata.obs['_scvi_labels'] </span>│\n",
       "└──────────────┴───────────────────────────┘\n",
       "</pre>\n"
      ],
      "text/plain": [
       "\u001b[3m               Data Registry                \u001b[0m\n",
       "┏━━━━━━━━━━━━━━┳━━━━━━━━━━━━━━━━━━━━━━━━━━━┓\n",
       "┃\u001b[1m \u001b[0m\u001b[1mRegistry Key\u001b[0m\u001b[1m \u001b[0m┃\u001b[1m \u001b[0m\u001b[1m   scvi-tools Location   \u001b[0m\u001b[1m \u001b[0m┃\n",
       "┡━━━━━━━━━━━━━━╇━━━━━━━━━━━━━━━━━━━━━━━━━━━┩\n",
       "│\u001b[38;5;33m \u001b[0m\u001b[38;5;33m     X      \u001b[0m\u001b[38;5;33m \u001b[0m│\u001b[38;5;128m \u001b[0m\u001b[38;5;128m         adata.X         \u001b[0m\u001b[38;5;128m \u001b[0m│\n",
       "│\u001b[38;5;33m \u001b[0m\u001b[38;5;33m   batch    \u001b[0m\u001b[38;5;33m \u001b[0m│\u001b[38;5;128m \u001b[0m\u001b[38;5;128madata.obs['_scvi_batch'] \u001b[0m\u001b[38;5;128m \u001b[0m│\n",
       "│\u001b[38;5;33m \u001b[0m\u001b[38;5;33m   labels   \u001b[0m\u001b[38;5;33m \u001b[0m│\u001b[38;5;128m \u001b[0m\u001b[38;5;128madata.obs['_scvi_labels']\u001b[0m\u001b[38;5;128m \u001b[0m│\n",
       "└──────────────┴───────────────────────────┘\n"
      ]
     },
     "metadata": {},
     "output_type": "display_data"
    },
    {
     "data": {
      "text/html": [
       "<pre style=\"white-space:pre;overflow-x:auto;line-height:normal;font-family:Menlo,'DejaVu Sans Mono',consolas,'Courier New',monospace\"><span style=\"font-style: italic\">                    batch State Registry                    </span>\n",
       "┏━━━━━━━━━━━━━━━━━━━━━━━┳━━━━━━━━━━━━┳━━━━━━━━━━━━━━━━━━━━━┓\n",
       "┃<span style=\"font-weight: bold\">    Source Location    </span>┃<span style=\"font-weight: bold\"> Categories </span>┃<span style=\"font-weight: bold\"> scvi-tools Encoding </span>┃\n",
       "┡━━━━━━━━━━━━━━━━━━━━━━━╇━━━━━━━━━━━━╇━━━━━━━━━━━━━━━━━━━━━┩\n",
       "│<span style=\"color: #0087ff; text-decoration-color: #0087ff\"> adata.obs['modality'] </span>│<span style=\"color: #008000; text-decoration-color: #008000\">   paired   </span>│<span style=\"color: #af00d7; text-decoration-color: #af00d7\">          0          </span>│\n",
       "└───────────────────────┴────────────┴─────────────────────┘\n",
       "</pre>\n"
      ],
      "text/plain": [
       "\u001b[3m                    batch State Registry                    \u001b[0m\n",
       "┏━━━━━━━━━━━━━━━━━━━━━━━┳━━━━━━━━━━━━┳━━━━━━━━━━━━━━━━━━━━━┓\n",
       "┃\u001b[1m \u001b[0m\u001b[1m   Source Location   \u001b[0m\u001b[1m \u001b[0m┃\u001b[1m \u001b[0m\u001b[1mCategories\u001b[0m\u001b[1m \u001b[0m┃\u001b[1m \u001b[0m\u001b[1mscvi-tools Encoding\u001b[0m\u001b[1m \u001b[0m┃\n",
       "┡━━━━━━━━━━━━━━━━━━━━━━━╇━━━━━━━━━━━━╇━━━━━━━━━━━━━━━━━━━━━┩\n",
       "│\u001b[38;5;33m \u001b[0m\u001b[38;5;33madata.obs['modality']\u001b[0m\u001b[38;5;33m \u001b[0m│\u001b[32m \u001b[0m\u001b[32m  paired  \u001b[0m\u001b[32m \u001b[0m│\u001b[38;5;128m \u001b[0m\u001b[38;5;128m         0         \u001b[0m\u001b[38;5;128m \u001b[0m│\n",
       "└───────────────────────┴────────────┴─────────────────────┘\n"
      ]
     },
     "metadata": {},
     "output_type": "display_data"
    },
    {
     "data": {
      "text/html": [
       "<pre style=\"white-space:pre;overflow-x:auto;line-height:normal;font-family:Menlo,'DejaVu Sans Mono',consolas,'Courier New',monospace\"><span style=\"font-style: italic\">                     labels State Registry                      </span>\n",
       "┏━━━━━━━━━━━━━━━━━━━━━━━━━━━┳━━━━━━━━━━━━┳━━━━━━━━━━━━━━━━━━━━━┓\n",
       "┃<span style=\"font-weight: bold\">      Source Location      </span>┃<span style=\"font-weight: bold\"> Categories </span>┃<span style=\"font-weight: bold\"> scvi-tools Encoding </span>┃\n",
       "┡━━━━━━━━━━━━━━━━━━━━━━━━━━━╇━━━━━━━━━━━━╇━━━━━━━━━━━━━━━━━━━━━┩\n",
       "│<span style=\"color: #0087ff; text-decoration-color: #0087ff\"> adata.obs['_scvi_labels'] </span>│<span style=\"color: #008000; text-decoration-color: #008000\">     0      </span>│<span style=\"color: #af00d7; text-decoration-color: #af00d7\">          0          </span>│\n",
       "└───────────────────────────┴────────────┴─────────────────────┘\n",
       "</pre>\n"
      ],
      "text/plain": [
       "\u001b[3m                     labels State Registry                      \u001b[0m\n",
       "┏━━━━━━━━━━━━━━━━━━━━━━━━━━━┳━━━━━━━━━━━━┳━━━━━━━━━━━━━━━━━━━━━┓\n",
       "┃\u001b[1m \u001b[0m\u001b[1m     Source Location     \u001b[0m\u001b[1m \u001b[0m┃\u001b[1m \u001b[0m\u001b[1mCategories\u001b[0m\u001b[1m \u001b[0m┃\u001b[1m \u001b[0m\u001b[1mscvi-tools Encoding\u001b[0m\u001b[1m \u001b[0m┃\n",
       "┡━━━━━━━━━━━━━━━━━━━━━━━━━━━╇━━━━━━━━━━━━╇━━━━━━━━━━━━━━━━━━━━━┩\n",
       "│\u001b[38;5;33m \u001b[0m\u001b[38;5;33madata.obs['_scvi_labels']\u001b[0m\u001b[38;5;33m \u001b[0m│\u001b[32m \u001b[0m\u001b[32m    0     \u001b[0m\u001b[32m \u001b[0m│\u001b[38;5;128m \u001b[0m\u001b[38;5;128m         0         \u001b[0m\u001b[38;5;128m \u001b[0m│\n",
       "└───────────────────────────┴────────────┴─────────────────────┘\n"
      ]
     },
     "metadata": {},
     "output_type": "display_data"
    }
   ],
   "source": [
    "mvi = scvi.model.MULTIVI(\n",
    "    adata_mvi,\n",
    "    n_genes=(adata_mvi.var['modality']=='Gene_expression').sum(),\n",
    "    n_regions=(adata_mvi.var['modality']=='Peaks').sum(),\n",
    ")\n",
    "mvi.view_anndata_setup()"
   ]
  },
  {
   "cell_type": "code",
   "execution_count": null,
   "metadata": {},
   "outputs": [
    {
     "name": "stderr",
     "output_type": "stream",
     "text": [
      "GPU available: False, used: False\n",
      "TPU available: False, using: 0 TPU cores\n",
      "IPU available: False, using: 0 IPUs\n"
     ]
    },
    {
     "name": "stdout",
     "output_type": "stream",
     "text": [
      "Epoch 1/500:   0%|          | 0/500 [00:00<?, ?it/s]"
     ]
    }
   ],
   "source": [
    "mvi.train()"
   ]
  },
  {
   "cell_type": "code",
   "execution_count": null,
   "metadata": {},
   "outputs": [],
   "source": []
  },
  {
   "cell_type": "code",
   "execution_count": null,
   "metadata": {},
   "outputs": [],
   "source": []
  },
  {
   "cell_type": "code",
   "execution_count": null,
   "metadata": {},
   "outputs": [],
   "source": []
  },
  {
   "cell_type": "code",
   "execution_count": null,
   "metadata": {},
   "outputs": [],
   "source": []
  },
  {
   "cell_type": "code",
   "execution_count": null,
   "metadata": {},
   "outputs": [],
   "source": []
  },
  {
   "cell_type": "code",
   "execution_count": null,
   "metadata": {},
   "outputs": [],
   "source": []
  },
  {
   "cell_type": "code",
   "execution_count": null,
   "metadata": {},
   "outputs": [],
   "source": [
    "#multiome_mvi = scvi.data.organize_multiome_anndatas(multiome)"
   ]
  },
  {
   "cell_type": "code",
   "execution_count": null,
   "metadata": {},
   "outputs": [],
   "source": [
    "#multiome_mvi.var"
   ]
  },
  {
   "cell_type": "code",
   "execution_count": null,
   "metadata": {},
   "outputs": [],
   "source": [
    "#adata_mvi = scvi.data.organize_multiome_anndatas(multiome)"
   ]
  },
  {
   "cell_type": "code",
   "execution_count": null,
   "metadata": {},
   "outputs": [],
   "source": [
    "#multiome.write(\"multiome_gastr.h5ad\", compression=\"gzip\")"
   ]
  },
  {
   "cell_type": "code",
   "execution_count": null,
   "metadata": {},
   "outputs": [],
   "source": []
  },
  {
   "cell_type": "code",
   "execution_count": null,
   "metadata": {},
   "outputs": [],
   "source": []
  },
  {
   "cell_type": "code",
   "execution_count": null,
   "metadata": {},
   "outputs": [],
   "source": [
    "#multiome_mvi = multiome_mvi[:, multiome_mvi.var[\"modality\"].argsort()].copy()"
   ]
  },
  {
   "cell_type": "code",
   "execution_count": null,
   "metadata": {},
   "outputs": [],
   "source": [
    "#multiome_mvi.var"
   ]
  },
  {
   "cell_type": "markdown",
   "metadata": {},
   "source": [
    "Filter features which appear in fewer than 1% of cells."
   ]
  },
  {
   "cell_type": "markdown",
   "metadata": {},
   "source": [
    "The main batch key should correspond to the modality of the cells. All other batch annotations are added via categorical_covariate_keys."
   ]
  },
  {
   "cell_type": "code",
   "execution_count": null,
   "metadata": {},
   "outputs": [],
   "source": [
    "test = scvi.data.organize_multiome_anndatas(multiome)"
   ]
  },
  {
   "cell_type": "code",
   "execution_count": null,
   "metadata": {},
   "outputs": [],
   "source": [
    "scvi.model.MULTIVI.setup_anndata(adata)#,\n",
    "                                # batch_key = \"modality\")\n",
    "                                 #categorical_covariate_keys=[\"sample\"])"
   ]
  },
  {
   "cell_type": "markdown",
   "metadata": {},
   "source": [
    "We need to specify how many features are genes and how many are genomic regions. "
   ]
  },
  {
   "cell_type": "code",
   "execution_count": null,
   "metadata": {},
   "outputs": [],
   "source": [
    "mvi = scvi.model.MULTIVI(\n",
    "    adata,\n",
    "    n_genes=(adata.var['modality']=='Gene_expression').sum(),\n",
    "    n_regions=(adata.var['modality']=='Peaks').sum()\n",
    "    #dropout_rate=0.2,\n",
    "    #n_layers_encoder=2,\n",
    "    #n_layers_decoder=2,\n",
    "    #n_latent=20\n",
    ")"
   ]
  },
  {
   "cell_type": "markdown",
   "metadata": {},
   "source": [
    "arches_params = dict(\n",
    "    n_genes=(multiome.var[\"modality\"]==\"Gene_expression\").sum(),\n",
    "    n_regions=(multiome.var[\"modality\"]==\"Peaks\").sum(),\n",
    "    #dropout_rate=0.2,\n",
    "    #n_layers_encoder=2,\n",
    "    #n_layers_decoder=2,\n",
    "    #n_latent=20,\n",
    "    #latent_distribution='normal'\n",
    ")\n",
    "\n",
    "mvi = scvi.model.MULTIVI(\n",
    "    multiome,\n",
    "    **arches_params\n",
    ")\n",
    "mvi.view_anndata_setup()"
   ]
  },
  {
   "cell_type": "code",
   "execution_count": null,
   "metadata": {},
   "outputs": [],
   "source": [
    "mvi.train()"
   ]
  }
 ],
 "metadata": {
  "kernelspec": {
   "display_name": "scvi2",
   "language": "python",
   "name": "scvi2"
  },
  "language_info": {
   "codemirror_mode": {
    "name": "ipython",
    "version": 3
   },
   "file_extension": ".py",
   "mimetype": "text/x-python",
   "name": "python",
   "nbconvert_exporter": "python",
   "pygments_lexer": "ipython3",
   "version": "3.7.12"
  }
 },
 "nbformat": 4,
 "nbformat_minor": 4
}
