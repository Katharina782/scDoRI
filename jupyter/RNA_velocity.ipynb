{
 "cells": [
  {
   "cell_type": "code",
   "execution_count": 1,
   "metadata": {},
   "outputs": [],
   "source": [
    "import scanpy as sc\n",
    "import scvelo as scv\n",
    "#import cellrank as cr\n",
    "import numpy as np\n",
    "import pandas as pd\n",
    "#import anndata as ad"
   ]
  },
  {
   "cell_type": "code",
   "execution_count": 2,
   "metadata": {},
   "outputs": [],
   "source": [
    "adata = adata = sc.read_h5ad(\"/omics/groups/OE0533/internal/katharina/scDoRI/gastrulation_data/anndata_rna.h5ad\")"
   ]
  },
  {
   "cell_type": "code",
   "execution_count": 3,
   "metadata": {},
   "outputs": [
    {
     "data": {
      "text/plain": [
       "AnnData object with n_obs × n_vars = 36822 × 32245\n",
       "    obs: 'sample', 'barcode', 'stage', 'nFeature_RNA', 'nCount_RNA', 'mitochondrial_percent_RNA', 'ribosomal_percent_RNA', 'pass_rnaQC', 'celltype.mapped', 'celltype.score', 'closest.cell', 'hybrid_score', 'doublet_call', 'TSSEnrichment_atac', 'ReadsInTSS_atac', 'PromoterRatio_atac', 'NucleosomeRatio_atac', 'nFrags_atac', 'BlacklistRatio_atac', 'pass_atacQC', 'celltype.predicted', 'sample_batch', 'initial_size_spliced', 'initial_size_unspliced', 'initial_size'\n",
       "    var: 'gene', 'Accession', 'Chromosome', 'End', 'Start', 'Strand'\n",
       "    uns: 'celltype.mapped_colors', 'stage_colors'\n",
       "    layers: 'spliced', 'unspliced'"
      ]
     },
     "execution_count": 3,
     "metadata": {},
     "output_type": "execute_result"
    }
   ],
   "source": [
    "adata"
   ]
  },
  {
   "cell_type": "code",
   "execution_count": 4,
   "metadata": {},
   "outputs": [
    {
     "name": "stdout",
     "output_type": "stream",
     "text": [
      "Help on function moments in module scvelo.preprocessing.moments:\n",
      "\n",
      "moments(data, n_neighbors=30, n_pcs=None, mode='connectivities', method='umap', use_rep=None, use_highly_variable=True, copy=False)\n",
      "    Computes moments for velocity estimation.\n",
      "    \n",
      "    First-/second-order moments are computed for each cell across its nearest neighbors,\n",
      "    where the neighbor graph is obtained from euclidean distances in PCA space.\n",
      "    \n",
      "    Arguments\n",
      "    ---------\n",
      "    data: :class:`~anndata.AnnData`\n",
      "        Annotated data matrix.\n",
      "    n_neighbors: `int` (default: 30)\n",
      "        Number of neighbors to use.\n",
      "    n_pcs: `int` (default: None)\n",
      "        Number of principal components to use.\n",
      "        If not specified, the full space is used of a pre-computed PCA,\n",
      "        or 30 components are used when PCA is computed internally.\n",
      "    mode: `'connectivities'` or `'distances'`  (default: `'connectivities'`)\n",
      "        Distance metric to use for moment computation.\n",
      "    method : {{'umap', 'hnsw', 'sklearn', `None`}}  (default: `'umap'`)\n",
      "        Method to compute neighbors, only differs in runtime.\n",
      "        Connectivities are computed with adaptive kernel width as proposed in\n",
      "        Haghverdi et al. 2016 (https://doi.org/10.1038/nmeth.3971).\n",
      "    use_rep : `None`, `'X'` or any key for `.obsm` (default: None)\n",
      "        Use the indicated representation. If `None`, the representation is chosen\n",
      "        automatically: for .n_vars < 50, .X is used, otherwise ‘X_pca’ is used.\n",
      "    use_highly_variable: `bool` (default: True)\n",
      "        Whether to use highly variable genes only, stored in .var['highly_variable'].\n",
      "    copy: `bool` (default: `False`)\n",
      "        Return a copy instead of writing to adata.\n",
      "    \n",
      "    Returns\n",
      "    -------\n",
      "    Ms: `.layers`\n",
      "        dense matrix with first order moments of spliced counts.\n",
      "    Mu: `.layers`\n",
      "        dense matrix with first order moments of unspliced counts.\n",
      "\n"
     ]
    }
   ],
   "source": [
    "help(scv.pp.moments)"
   ]
  },
  {
   "cell_type": "code",
   "execution_count": 5,
   "metadata": {},
   "outputs": [
    {
     "name": "stdout",
     "output_type": "stream",
     "text": [
      "Normalized count data: X, spliced, unspliced.\n",
      "WARNING: Did not modify X as it looks preprocessed already.\n",
      "computing neighbors\n",
      "    finished (0:01:50) --> added \n",
      "    'distances' and 'connectivities', weighted adjacency matrices (adata.obsp)\n",
      "computing moments based on connectivities\n",
      "    finished (0:01:58) --> added \n",
      "    'Ms' and 'Mu', moments of un/spliced abundances (adata.layers)\n"
     ]
    }
   ],
   "source": [
    "scv.pp.filter_and_normalize(adata)\n",
    "# computes PCA and neighbors\n",
    "scv.pp.moments(adata)"
   ]
  },
  {
   "cell_type": "markdown",
   "metadata": {},
   "source": [
    "Lets have a look at the proportions of spliced and unspliced RNA."
   ]
  },
  {
   "cell_type": "code",
   "execution_count": 6,
   "metadata": {},
   "outputs": [
    {
     "data": {
      "image/png": "[encoded data removed]",
      "text/plain": [
       "<Figure size 1000x200 with 1 Axes>"
      ]
     },
     "metadata": {},
     "output_type": "display_data"
    }
   ],
   "source": [
    "scv.pl.proportions(adata)\n"
   ]
  },
  {
   "cell_type": "markdown",
   "metadata": {},
   "source": [
    "For each gene a steady state ratio of spliced and unspliced mRNA counts is fitted. Velocities are obtained as residuals from this ratio. The computed velocities are stored in `adata.layers`. Velocities are vectors in gene expression space."
   ]
  },
  {
   "cell_type": "code",
   "execution_count": null,
   "metadata": {},
   "outputs": [
    {
     "name": "stdout",
     "output_type": "stream",
     "text": [
      "computing velocities\n"
     ]
    }
   ],
   "source": [
    "scv.tl.velocity(adata, mode='stochastic')"
   ]
  },
  {
   "cell_type": "markdown",
   "metadata": {},
   "source": [
    "The combination of velocities across genes can be used to determine future states of an individual cell. To project the velocities into a lower dimensional space we compute cell-to-cell transition probabilities. For each velocity vectors the cell transtitions which fit to the direction are found. A transition probability is computed with cosine correlation between cell-to-cell transitions and velocity vectors. These cosine correlations are stored as a matrix = velocity graph $n_{obs} x n_{obs}$. The velocity graph summarizes the possible cell state changes and that are well explained through the velocity vectors. "
   ]
  },
  {
   "cell_type": "code",
   "execution_count": null,
   "metadata": {},
   "outputs": [],
   "source": [
    "# project the velocities into lower dimensional space\n",
    "scv.pl.velocity_embedding_stream(adata, basis='umap')\n"
   ]
  }
 ],
 "metadata": {
  "kernelspec": {
   "display_name": "scanpy_env2",
   "language": "python",
   "name": "scanpy_env2"
  },
  "language_info": {
   "codemirror_mode": {
    "name": "ipython",
    "version": 3
   },
   "file_extension": ".py",
   "mimetype": "text/x-python",
   "name": "python",
   "nbconvert_exporter": "python",
   "pygments_lexer": "ipython3",
   "version": "3.9.10"
  }
 },
 "nbformat": 4,
 "nbformat_minor": 4
}
