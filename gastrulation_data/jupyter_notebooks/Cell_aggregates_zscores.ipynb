{
 "cells": [
  {
   "cell_type": "markdown",
   "metadata": {},
   "source": [
    "# Creating cell aggregates"
   ]
  },
  {
   "cell_type": "markdown",
   "metadata": {},
   "source": [
    "We want to create 500 cell aggreagates of 100 cells each. To create these groupings, we will randomly sample 500 cell from the latent space embedding. Using a nearest neighbor search we will then find the 100 nearest neighbors of these cells. Any group of cells which has an overlap >80% with any of the previously created groups will be removed. These cell aggregates can then be used for downstream correlation tasks."
   ]
  },
  {
   "cell_type": "markdown",
   "metadata": {},
   "source": [
    "In the following I subset all matrices (gene expression, ArchR gene scores computed from scATAC-seq and gene scores computed from peak-to-gene links to contain an overlapping list of genes. The reason why each matrix has a different number of genes is that ArchR gene scores contain more genes, because based on chromatin accessibility we might "
   ]
  },
  {
   "cell_type": "code",
   "execution_count": 91,
   "metadata": {},
   "outputs": [],
   "source": [
    "import scanpy as sc\n",
    "import scvi\n",
    "import numpy as np\n",
    "import matplotlib.pyplot as plt\n",
    "import numpy as np\n",
    "from sklearn.neighbors import NearestNeighbors\n",
    "from numba import jit, njit\n",
    "import seaborn as sns\n",
    "from scipy import sparse\n",
    "import seaborn as sns\n",
    "import pandas as pd\n",
    "import h5py\n",
    "import pickle\n",
    "import csr"
   ]
  },
  {
   "cell_type": "markdown",
   "metadata": {},
   "source": [
    "#### Read in p2g activity scores"
   ]
  },
  {
   "cell_type": "markdown",
   "metadata": {},
   "source": [
    "Using gene activity scores based on z-score peak-to-gene linkage matrix, in order to remove noise of peaks which are correlated with a lot of genes. This way, peaks which are only correlated with a few genes will have a higher z-score than peaks correlated with many genes. \n",
    "\n",
    "Additionally, here I only used highly variable genes, since genes which are not variable are not interesting to us and would introduce unnecessary noise."
   ]
  },
  {
   "cell_type": "code",
   "execution_count": 92,
   "metadata": {},
   "outputs": [],
   "source": [
    "p2g_scores_adata = scvi.data.read_h5ad(\"z_score_p2g_gene_activity_scores\")"
   ]
  },
  {
   "cell_type": "code",
   "execution_count": 93,
   "metadata": {},
   "outputs": [],
   "source": [
    "p2g_scores_adata.var = p2g_scores_adata.var.rename(columns = {\"rownames(scores)\": \"name\"})"
   ]
  },
  {
   "cell_type": "code",
   "execution_count": 94,
   "metadata": {},
   "outputs": [],
   "source": [
    "p2g_scores = p2g_scores_adata.X"
   ]
  },
  {
   "cell_type": "markdown",
   "metadata": {},
   "source": [
    "Instead of using the constant of total activity across all cells for the size factors in our gene activity score computation based on peak-to-gene links, I just divided by the expected total activity given a certain library size (output of the linear regression). See function for computing gene activity score from peak-to-gene links in R. If we compare the plots between using two different functions, the result is almost the same, so the constant does not seem to make a difference."
   ]
  },
  {
   "cell_type": "code",
   "execution_count": 95,
   "metadata": {},
   "outputs": [],
   "source": [
    "p2g_scores_adata_noconstant = scvi.data.read_h5ad(\"z_score_p2g_gene_activity_scores_remove_constant_from_function\")"
   ]
  },
  {
   "cell_type": "code",
   "execution_count": 96,
   "metadata": {},
   "outputs": [],
   "source": [
    "p2g_scores_noconstant = p2g_scores_adata_noconstant.X"
   ]
  },
  {
   "cell_type": "markdown",
   "metadata": {},
   "source": [
    "Before, the gene activity score was calculated based on a matrix only normalized for the total number of peaks correlated to a given gene, but not by the total number of genes correlated to a given peaks as we did by taking a z-score across all genes for each peak. This did not yield satisfactory correlation with gene expression. Now lets have a look what the effect of only using highly variable genes is, compared to using all genes, but without taking z-scores. "
   ]
  },
  {
   "cell_type": "code",
   "execution_count": 97,
   "metadata": {},
   "outputs": [],
   "source": [
    "p2g_scores_hvg_adata = scvi.data.read_h5ad(\"pos_p2g_links_scores\")"
   ]
  },
  {
   "cell_type": "code",
   "execution_count": 98,
   "metadata": {},
   "outputs": [],
   "source": [
    "p2g_scores_hvg = p2g_scores_hvg_adata.X"
   ]
  },
  {
   "cell_type": "markdown",
   "metadata": {},
   "source": [
    "#### Get ArchR gene scores"
   ]
  },
  {
   "cell_type": "code",
   "execution_count": 99,
   "metadata": {},
   "outputs": [
    {
     "name": "stderr",
     "output_type": "stream",
     "text": [
      "/omics/groups/OE0533/internal/katharina/scvi2/lib/python3.7/site-packages/anndata/_core/anndata.py:120: ImplicitModificationWarning: Transforming to str index.\n",
      "  warnings.warn(\"Transforming to str index.\", ImplicitModificationWarning)\n"
     ]
    }
   ],
   "source": [
    "scores_adata = scvi.data.read_h5ad(\"archr_gene_scores\")"
   ]
  },
  {
   "cell_type": "code",
   "execution_count": 100,
   "metadata": {},
   "outputs": [],
   "source": [
    "# read in overlapping gene names\n",
    "gene_names = pd.read_pickle(r\"gene_names.pkl\")"
   ]
  },
  {
   "cell_type": "code",
   "execution_count": 101,
   "metadata": {},
   "outputs": [],
   "source": [
    "#subset genes\n",
    "scores_adata = scores_adata[:, scores_adata.var.name.isin(p2g_scores_adata.var.name.tolist())] "
   ]
  },
  {
   "cell_type": "code",
   "execution_count": 102,
   "metadata": {},
   "outputs": [],
   "source": [
    "scores = scores_adata.X"
   ]
  },
  {
   "cell_type": "markdown",
   "metadata": {},
   "source": [
    "#### Read in latent space and gene expression matrix"
   ]
  },
  {
   "cell_type": "code",
   "execution_count": 103,
   "metadata": {},
   "outputs": [],
   "source": [
    "# read in the anndata object which contains the latent space embedding\n",
    "adata = scvi.data.read_h5ad(\"gpu_trained_20_dim/anndata_object\")\n",
    "\n",
    "# read the anndata object containing ArchR gene expression matrix\n",
    "archr_gene_expr = scvi.data.read_h5ad(\"ArchR_gene_expr.h5ad\")"
   ]
  },
  {
   "cell_type": "code",
   "execution_count": 104,
   "metadata": {},
   "outputs": [],
   "source": [
    "# subset gene expr object to contain only the same genes as above\n",
    "archr_gene_expr = archr_gene_expr[:, archr_gene_expr.var.name.isin(p2g_scores_adata.var.name.tolist())]\n",
    "\n",
    "# subset anndata object to contain only overlapping cells\n",
    "adata = adata[archr_gene_expr.obs.index, :]\n",
    "\n",
    "# get latent space embedding\n",
    "latent_embedding = adata.obsm[\"X_scVI\"]"
   ]
  },
  {
   "cell_type": "code",
   "execution_count": 127,
   "metadata": {},
   "outputs": [],
   "source": [
    "# this is the lognormalized gene expression with colSums = 1000\n",
    "gene_expr = archr_gene_expr.X"
   ]
  },
  {
   "cell_type": "code",
   "execution_count": 128,
   "metadata": {},
   "outputs": [
    {
     "name": "stdout",
     "output_type": "stream",
     "text": [
      "The shapes of all 3 matrices are the same: peak-to-gene linkage gene activity scores: (45986, 1722), ArchR gene activity scores: (45986, 1722), gene expression: (45986, 1722)\n"
     ]
    }
   ],
   "source": [
    "print(f\"The shapes of all 3 matrices are the same: peak-to-gene linkage gene activity scores: {p2g_scores.shape}, ArchR gene activity scores: {scores.shape}, gene expression: {gene_expr.shape}\")"
   ]
  },
  {
   "cell_type": "markdown",
   "metadata": {},
   "source": [
    "#### Prepare the metadata for the cell aggregate function:"
   ]
  },
  {
   "cell_type": "code",
   "execution_count": 108,
   "metadata": {},
   "outputs": [
    {
     "name": "stderr",
     "output_type": "stream",
     "text": [
      "Trying to set attribute `.obs` of view, copying.\n",
      "Trying to set attribute `.obs` of view, copying.\n"
     ]
    }
   ],
   "source": [
    "metadata = adata.obs\n",
    "# create column for cell names\n",
    "metadata[\"cells\"] = metadata.index\n",
    "# create index for cells\n",
    "metadata[\"idx\"] = np.arange(len(metadata))"
   ]
  },
  {
   "cell_type": "code",
   "execution_count": null,
   "metadata": {},
   "outputs": [],
   "source": []
  },
  {
   "cell_type": "markdown",
   "metadata": {},
   "source": [
    "https://stackoverflow.com/questions/20928136/input-and-output-numpy-arrays-to-h5py"
   ]
  },
  {
   "cell_type": "markdown",
   "metadata": {},
   "source": [
    "### Sample cells & compute nearest neighbors\n",
    "\n",
    "Since we have 45,991 cells in our dataset, we will sample 1000 cell aggregates of 50 cells each. "
   ]
  },
  {
   "cell_type": "code",
   "execution_count": 109,
   "metadata": {},
   "outputs": [],
   "source": [
    "class nearest_neighbors:\n",
    "    def __init__(self, latent_embedding):\n",
    "    # attribute root of the class Tree will be an instance of the class Node\n",
    "    # attriute self.root is an object of class Node\n",
    "        self.latent_embedding = latent_embedding\n",
    "        \n",
    "    def sampling_cells(self, n_aggregates):\n",
    "        self.sample_cells = np.random.choice(self.latent_embedding.shape[0], n_aggregates, replace=False)\n",
    "        #print(self.sample_cells.shape)\n",
    "        assert self.sample_cells.shape[0] == n_aggregates,\"sample cells vector has incorrect length.\"\n",
    "    \n",
    "    def compute_NN(self, k):\n",
    "        print(f\"Computing {k} nearest neighbors for {self.sample_cells.shape[0]} cells.\")\n",
    "        nbrs = NearestNeighbors(n_neighbors=k, algorithm=\"ball_tree\").fit(self.latent_embedding)\n",
    "        dist, ind = nbrs.kneighbors(self.latent_embedding)\n",
    "        assert dist.shape[0] == self.latent_embedding.shape[0], \"wrong dimensions of neigbor search\"\n",
    "        # subset the nearest neighbors to only contain the sampled cells\n",
    "        self.distance = dist[self.sample_cells, :]\n",
    "        self.index = ind[self.sample_cells, :]\n",
    "        # The index matrix should now contain the number of cells as nrows and k cols\n",
    "        assert self.index.shape[0] == self.sample_cells.shape[0], \"wrong dimensions in nearest neighbor index matrix\"\n",
    "        assert self.index.shape[1] == k, \"wrong dimensions of nearest neighbor index matrix\"\n",
    "\n",
    "    "
   ]
  },
  {
   "cell_type": "markdown",
   "metadata": {},
   "source": [
    "### Check for overlapping cell aggregates"
   ]
  },
  {
   "cell_type": "code",
   "execution_count": 110,
   "metadata": {},
   "outputs": [],
   "source": [
    "# We want to check whether the 50 nearest neighbors of any given cell overlap with the 50 nearest neighbors of any other cell by more than 80%\n",
    "@jit(nopython=True)\n",
    "def check_overlap(index, sample_cells):\n",
    "    nrow = index.shape[0] # number of cells\n",
    "    ncol = index.shape[1] # number of neighbors \n",
    "    # create an array to store whether a cell passed the overlap check\n",
    "    # all entries are initially False\n",
    "    considered_cells = np.zeros(nrow).astype(np.bool8)\n",
    "    # loop over each cell and cosider to add it to the set of cell aggregates\n",
    "    for i in range(nrow):\n",
    "        check = True\n",
    "        # loop over all previous aggregates \n",
    "        for comp in np.where(considered_cells)[0]:\n",
    "            # get the number of cells which overlap between the neighborhood of the cell we would like to add and the neighborhoud of previous cell \"comp\"\n",
    "            intersect = np.intersect1d(index[i, :], index[comp, :])\n",
    "            # for each comparison between current cell i which we would like to add and previous cell which we are comparing to\n",
    "            # compute the percentage of overlap\n",
    "            if (len(intersect) / ncol) > 0.8: # if the intersection is above 0.8, we do not consider it\n",
    "                check = False\n",
    "                break\n",
    "        if check:\n",
    "            considered_cells[i] = True\n",
    "    # get indices\n",
    "    keep = np.arange(start=0, stop=nrow, step=1)[considered_cells]\n",
    "    print(f\"Of {nrow} cell aggregates we keep {index[keep, :].shape[0]} cells.\")\n",
    "    return index[keep, :], sample_cells[keep]\n",
    "    "
   ]
  },
  {
   "cell_type": "markdown",
   "metadata": {},
   "source": [
    "### Only keep cells of same celltype"
   ]
  },
  {
   "cell_type": "code",
   "execution_count": 111,
   "metadata": {},
   "outputs": [],
   "source": [
    "\n",
    "# We only want to keep cells of the same celltype\n",
    "def filter_celltypes(metadata, sample_cells_keep, idx_keep):\n",
    "    groups={}\n",
    "    celltypes = []\n",
    "    # check whether a cell aggregate contains cells of other celltypes and remove then\n",
    "    for n, i in enumerate(sample_cells_keep):\n",
    "        # check that the index in the sample cells is equivalent to the one in the nearest neighbor index matrix\n",
    "        assert (sample_cells_keep==idx_keep[:, 0]).all()\n",
    "        # get celltype information of sampled cell\n",
    "        celltype_test_cell = metadata.iloc[i][\"celltype\"]\n",
    "        # get indices of cells which are in the neighborhood \n",
    "        neighbor_cells = idx_keep[n, :]\n",
    "        assert neighbor_cells.shape[0] == idx_keep.shape[1]\n",
    "        # get cells which are of the same celltype, vector includes the sampled cell itself\n",
    "        keep = np.array(metadata[(metadata.idx.isin(neighbor_cells.flatten())) & (metadata.celltype == celltype_test_cell)][\"idx\"])\n",
    "        # keep only aggregates which contain at least 10 cells after removing non-matching celltypes\n",
    "        if keep.shape[0] > 10:\n",
    "            groups[i] = keep\n",
    "            celltypes.append(celltype_test_cell)\n",
    "        else:\n",
    "            continue\n",
    "    print(f\"Out of {len(sample_cells_keep)} cell aggregates which passed the overlap check we are left with {len(groups)} after checking for celltype consistency\")\n",
    "    # add dictionary to self\n",
    "    return groups, celltypes"
   ]
  },
  {
   "cell_type": "markdown",
   "metadata": {},
   "source": [
    "#### Apply functions to our data"
   ]
  },
  {
   "cell_type": "code",
   "execution_count": 112,
   "metadata": {},
   "outputs": [],
   "source": [
    "agg_object = nearest_neighbors(latent_embedding) # initialize the cell aggreagte object"
   ]
  },
  {
   "cell_type": "code",
   "execution_count": 113,
   "metadata": {},
   "outputs": [],
   "source": [
    "agg_object.sampling_cells(n_aggregates=1000)"
   ]
  },
  {
   "cell_type": "code",
   "execution_count": 114,
   "metadata": {},
   "outputs": [
    {
     "name": "stdout",
     "output_type": "stream",
     "text": [
      "Computing 50 nearest neighbors for 1000 cells.\n"
     ]
    }
   ],
   "source": [
    "agg_object.compute_NN(k=50) # compute nearest neighbors "
   ]
  },
  {
   "cell_type": "code",
   "execution_count": 115,
   "metadata": {},
   "outputs": [
    {
     "name": "stdout",
     "output_type": "stream",
     "text": [
      "Of 1000 cell aggregates we keep 993 cells.\n"
     ]
    }
   ],
   "source": [
    "idx_keep, sample_cells_keep = check_overlap(agg_object.index, agg_object.sample_cells)"
   ]
  },
  {
   "cell_type": "code",
   "execution_count": 116,
   "metadata": {},
   "outputs": [],
   "source": [
    "metadata = adata.obs\n",
    "# create column for cell names\n",
    "metadata[\"cells\"] = metadata.index\n",
    "# create index for cells\n",
    "metadata[\"idx\"] = np.arange(len(metadata))"
   ]
  },
  {
   "cell_type": "code",
   "execution_count": 117,
   "metadata": {},
   "outputs": [
    {
     "name": "stdout",
     "output_type": "stream",
     "text": [
      "Out of 993 cell aggregates which passed the overlap check we are left with 944 after checking for celltype consistency\n"
     ]
    }
   ],
   "source": [
    "groups, celltype_list = filter_celltypes(metadata, sample_cells_keep, idx_keep)"
   ]
  },
  {
   "cell_type": "markdown",
   "metadata": {},
   "source": [
    "## Aggregate expression/scores/accessibility "
   ]
  },
  {
   "cell_type": "code",
   "execution_count": 118,
   "metadata": {},
   "outputs": [],
   "source": [
    "#archr_gene_expr.var[\"index\"] = archr_gene_expr.var.index"
   ]
  },
  {
   "cell_type": "code",
   "execution_count": 119,
   "metadata": {},
   "outputs": [],
   "source": [
    "#new = archr_gene_expr.var[archr_gene_expr.var[\"name\"].isin(gene_names)]"
   ]
  },
  {
   "cell_type": "code",
   "execution_count": 120,
   "metadata": {},
   "outputs": [],
   "source": [
    "#index_list = pd.to_numeric(new[\"index\"]).to_numpy()"
   ]
  },
  {
   "cell_type": "code",
   "execution_count": 121,
   "metadata": {},
   "outputs": [],
   "source": [
    "#rna_mat = archr_gene_expr.X"
   ]
  },
  {
   "cell_type": "markdown",
   "metadata": {},
   "source": [
    "TODO: Implement aggregation with numba -> convert to csr matrx\n",
    "\n",
    "https://numba.pydata.org/numba-doc/0.43.0/reference/pysupported.html"
   ]
  },
  {
   "cell_type": "code",
   "execution_count": 122,
   "metadata": {},
   "outputs": [],
   "source": [
    "def create_aggregates(mat, groups): # the matrix should have dimensions cells x genes\n",
    "    # initialize matrix to store average gene expression for each cell aggregate\n",
    "    # the matrix has dimensions genes x cell aggregates\n",
    "    rna_agg = np.zeros((mat.shape[1],len(groups)))\n",
    "    # for each cell aggregate calculate the average gene expression for each gene\n",
    "    for i, g in enumerate(groups):\n",
    "        rna_agg[:, i] = mat[groups[g], :].mean(axis=0)\n",
    "        assert (rna_agg[:, i] == mat[groups[g], :].mean(axis=0)).all(), \"Dimension mismatch\"\n",
    "    print(f\"The aggregate matrix has dimensions: {rna_agg.shape}\")\n",
    "    rna_agg =  sparse.csr_matrix(rna_agg)\n",
    "    return csr.CSR.from_scipy(rna_agg), rna_agg # the first is a csr.csr.CSR matrix, the second one is a scipy.sparse.csr.csr_matrix"
   ]
  },
  {
   "cell_type": "code",
   "execution_count": 124,
   "metadata": {},
   "outputs": [
    {
     "data": {
      "text/plain": [
       "(1722, 45986)"
      ]
     },
     "execution_count": 124,
     "metadata": {},
     "output_type": "execute_result"
    }
   ],
   "source": [
    "gene_expr.shape"
   ]
  },
  {
   "cell_type": "code",
   "execution_count": 129,
   "metadata": {},
   "outputs": [
    {
     "name": "stdout",
     "output_type": "stream",
     "text": [
      "The aggregate matrix has dimensions: (1722, 944)\n"
     ]
    }
   ],
   "source": [
    "# create gene expression aggregates \n",
    "rna_agg, sparse_rna_agg = create_aggregates(gene_expr, groups)\n",
    "\n",
    "#save aggregates\n",
    "#sparse.save_npz(\"gene_expression_cell_agregates.npz\", rna_agg)\n",
    "\n",
    "# instead load computed aggregated expression matrix\n",
    "#rna_agg = sparse.load_npz(\"gene_expression_cell_agregates.npz\")\n",
    "\n",
    "#rna_agg = csr.CSR.from_scipy(rna_agg)"
   ]
  },
  {
   "cell_type": "markdown",
   "metadata": {},
   "source": [
    "#### Gene Scores from ArchR"
   ]
  },
  {
   "cell_type": "code",
   "execution_count": 125,
   "metadata": {},
   "outputs": [
    {
     "name": "stdout",
     "output_type": "stream",
     "text": [
      "The aggregate matrix has dimensions: (1722, 944)\n"
     ]
    }
   ],
   "source": [
    "# gene scores\n",
    "score_agg, sparse_score_agg = create_aggregates(scores, groups)\n",
    "\n",
    "#save matrix\n",
    "#sparse.save_npz(\"archr_scores_cell_agregates.npz\", score_agg)"
   ]
  },
  {
   "cell_type": "markdown",
   "metadata": {},
   "source": [
    "#### Gene Scores from p2g links"
   ]
  },
  {
   "cell_type": "code",
   "execution_count": 130,
   "metadata": {},
   "outputs": [
    {
     "name": "stdout",
     "output_type": "stream",
     "text": [
      "The aggregate matrix has dimensions: (1722, 944)\n"
     ]
    }
   ],
   "source": [
    "# the formula with z-scores & constant\n",
    "scores_p2g_agg, sparse_p2g_agg = create_aggregates(p2g_scores, groups)"
   ]
  },
  {
   "cell_type": "code",
   "execution_count": 131,
   "metadata": {},
   "outputs": [
    {
     "name": "stdout",
     "output_type": "stream",
     "text": [
      "The aggregate matrix has dimensions: (1722, 944)\n"
     ]
    }
   ],
   "source": [
    "# the formula with z-score & without constant\n",
    "p2g_noconstant_agg, sparse_p2g_noconstant_agg = create_aggregates(p2g_scores_noconstant, groups)"
   ]
  },
  {
   "cell_type": "code",
   "execution_count": 132,
   "metadata": {},
   "outputs": [
    {
     "name": "stdout",
     "output_type": "stream",
     "text": [
      "The aggregate matrix has dimensions: (1722, 944)\n"
     ]
    }
   ],
   "source": [
    "# the formula with raw p2g links & constant\n",
    "p2g_hvg_agg, sparse_p2g_hvg_agg = create_aggregates(p2g_scores_hvg, groups)"
   ]
  },
  {
   "cell_type": "markdown",
   "metadata": {},
   "source": [
    "# Correlations"
   ]
  },
  {
   "cell_type": "markdown",
   "metadata": {},
   "source": [
    "To compute row-wise correlations:"
   ]
  },
  {
   "cell_type": "code",
   "execution_count": 133,
   "metadata": {},
   "outputs": [],
   "source": [
    "@jit(nopython=True)\n",
    "def rowwise_correlation(A, B):\n",
    "    correlations = []\n",
    "    for i in range(A.nrows):\n",
    "        # center and scale row i of matrix A\n",
    "        rowa = A.row(i)\n",
    "        rowa -= np.mean(rowa)\n",
    "        rowa /= np.std(rowa)\n",
    "        \n",
    "        # center and scale row i of matrix B\n",
    "        rowb = B.row(i)\n",
    "        rowb -= np.mean(rowb)\n",
    "        rowb /= np.std(rowb)\n",
    "        \n",
    "        # compute correlation between row i of matrix A and B\n",
    "        corr = np.mean(rowa*rowb)\n",
    "        correlations.append(corr)\n",
    "    return correlations"
   ]
  },
  {
   "cell_type": "code",
   "execution_count": 134,
   "metadata": {},
   "outputs": [],
   "source": [
    "# correlation across cell aggregates\n",
    "corr_expr_scores = rowwise_correlation(rna_agg, score_agg)"
   ]
  },
  {
   "cell_type": "code",
   "execution_count": 135,
   "metadata": {},
   "outputs": [
    {
     "data": {
      "text/plain": [
       "Text(0.5, 1.0, 'Correlation betwen gene expression and ArchR gene scores')"
      ]
     },
     "execution_count": 135,
     "metadata": {},
     "output_type": "execute_result"
    },
    {
     "data": {
      "image/png": "[encoded data removed]",
      "text/plain": [
       "<Figure size 432x288 with 1 Axes>"
      ]
     },
     "metadata": {
      "needs_background": "light"
     },
     "output_type": "display_data"
    }
   ],
   "source": [
    "sns.histplot(corr_expr_scores, bins=200)\n",
    "plt.axvline(0, color =\"red\") \n",
    "plt.title(\"Correlation betwen gene expression and ArchR gene scores\")"
   ]
  },
  {
   "cell_type": "code",
   "execution_count": 137,
   "metadata": {},
   "outputs": [],
   "source": [
    "corr_expr_p2g_scores = rowwise_correlation(rna_agg, scores_p2g_agg)"
   ]
  },
  {
   "cell_type": "code",
   "execution_count": 138,
   "metadata": {},
   "outputs": [
    {
     "data": {
      "text/plain": [
       "Text(0.5, 1.0, 'Correlations between gene expression and p2g link scores across cell aggregates')"
      ]
     },
     "execution_count": 138,
     "metadata": {},
     "output_type": "execute_result"
    },
    {
     "data": {
      "image/png": "[encoded data removed]",
      "text/plain": [
       "<Figure size 432x288 with 1 Axes>"
      ]
     },
     "metadata": {
      "needs_background": "light"
     },
     "output_type": "display_data"
    }
   ],
   "source": [
    "sns.histplot(corr_expr_p2g_scores, bins=200)\n",
    "plt.axvline(0, color=\"red\")\n",
    "plt.title(\"Correlations between gene expression and p2g link scores across cell aggregates\")"
   ]
  },
  {
   "cell_type": "code",
   "execution_count": 139,
   "metadata": {},
   "outputs": [],
   "source": [
    "corr_expr_p2g_no_constant = rowwise_correlation(rna_agg, p2g_noconstant_agg)"
   ]
  },
  {
   "cell_type": "code",
   "execution_count": 140,
   "metadata": {},
   "outputs": [
    {
     "data": {
      "text/plain": [
       "Text(0.5, 1.0, 'Correlations between gene expression and p2g link scores (no constant in formula) across cell aggregates')"
      ]
     },
     "execution_count": 140,
     "metadata": {},
     "output_type": "execute_result"
    },
    {
     "data": {
      "image/png": "[encoded data removed]",
      "text/plain": [
       "<Figure size 432x288 with 1 Axes>"
      ]
     },
     "metadata": {
      "needs_background": "light"
     },
     "output_type": "display_data"
    }
   ],
   "source": [
    "sns.histplot(corr_expr_p2g_no_constant, bins=200)\n",
    "plt.axvline(0, color=\"red\")\n",
    "plt.title(\"Correlations between gene expression and p2g link scores (no constant in formula) across cell aggregates\")"
   ]
  },
  {
   "cell_type": "code",
   "execution_count": 141,
   "metadata": {},
   "outputs": [],
   "source": [
    "corr_hvg = rowwise_correlation(rna_agg, p2g_hvg_agg)"
   ]
  },
  {
   "cell_type": "code",
   "execution_count": 142,
   "metadata": {},
   "outputs": [
    {
     "data": {
      "text/plain": [
       "Text(0.5, 1.0, 'Correlations between gene expression and p2g link scores (no z-scores) across cell aggregates')"
      ]
     },
     "execution_count": 142,
     "metadata": {},
     "output_type": "execute_result"
    },
    {
     "data": {
      "image/png": "[encoded data removed]",
      "text/plain": [
       "<Figure size 432x288 with 1 Axes>"
      ]
     },
     "metadata": {
      "needs_background": "light"
     },
     "output_type": "display_data"
    }
   ],
   "source": [
    "sns.histplot(corr_hvg, bins=200)\n",
    "plt.axvline(0, color=\"red\")\n",
    "plt.title(\"Correlations between gene expression and p2g link scores (no z-scores) across cell aggregates\")"
   ]
  },
  {
   "cell_type": "code",
   "execution_count": 143,
   "metadata": {},
   "outputs": [],
   "source": [
    "corr_scores = rowwise_correlation(scores_p2g_agg, score_agg)"
   ]
  },
  {
   "cell_type": "code",
   "execution_count": 144,
   "metadata": {},
   "outputs": [
    {
     "data": {
      "text/plain": [
       "Text(0.5, 1.0, 'Correlation between ArchR gene score and p2g scores')"
      ]
     },
     "execution_count": 144,
     "metadata": {},
     "output_type": "execute_result"
    },
    {
     "data": {
      "image/png": "[encoded data removed]",
      "text/plain": [
       "<Figure size 432x288 with 1 Axes>"
      ]
     },
     "metadata": {
      "needs_background": "light"
     },
     "output_type": "display_data"
    }
   ],
   "source": [
    "sns.histplot(corr_scores, bins=200)\n",
    "plt.axvline(0, color=\"red\")\n",
    "plt.title(\"Correlation between ArchR gene score and p2g scores\")"
   ]
  },
  {
   "cell_type": "code",
   "execution_count": 145,
   "metadata": {},
   "outputs": [
    {
     "name": "stderr",
     "output_type": "stream",
     "text": [
      "/omics/groups/OE0533/internal/katharina/scvi2/lib/python3.7/site-packages/seaborn/_decorators.py:43: FutureWarning: Pass the following variable as a keyword arg: x. From version 0.12, the only valid positional argument will be `data`, and passing other arguments without an explicit keyword will result in an error or misinterpretation.\n",
      "  FutureWarning\n"
     ]
    },
    {
     "data": {
      "text/plain": [
       "<matplotlib.lines.Line2D at 0x7f19e049d190>"
      ]
     },
     "execution_count": 145,
     "metadata": {},
     "output_type": "execute_result"
    },
    {
     "data": {
      "image/png": "[encoded data removed]",
      "text/plain": [
       "<Figure size 432x288 with 1 Axes>"
      ]
     },
     "metadata": {
      "needs_background": "light"
     },
     "output_type": "display_data"
    }
   ],
   "source": [
    "sns.scatterplot(np.asarray(corr_expr_p2g_scores), y = np.asarray(corr_expr_scores))\n",
    "plt.xlabel(\"correlation between gene expr. and p2g scores\")\n",
    "plt.ylabel(\"Correlation between gene expr. and ArchR scores\")\n",
    "plt.title(\"Comparing correlation values for {hvg_index.shape[0]} most highly variable genes\")\n",
    "plt.axvline(0, color=\"red\")\n",
    "plt.axhline(0, color=\"red\")"
   ]
  },
  {
   "cell_type": "code",
   "execution_count": 146,
   "metadata": {},
   "outputs": [
    {
     "data": {
      "text/plain": [
       "<matplotlib.lines.Line2D at 0x7f19e03f49d0>"
      ]
     },
     "execution_count": 146,
     "metadata": {},
     "output_type": "execute_result"
    },
    {
     "data": {
      "image/png": "[encoded data removed]",
      "text/plain": [
       "<Figure size 432x288 with 1 Axes>"
      ]
     },
     "metadata": {
      "needs_background": "light"
     },
     "output_type": "display_data"
    }
   ],
   "source": [
    "# set color palette for density plot\n",
    "cmap = sns.color_palette(\"viridis\", as_cmap=True)\n",
    "\n",
    "# create scatterplot\n",
    "sns.scatterplot(x=np.asarray(corr_expr_p2g_scores), y=np.asarray(corr_expr_scores),\n",
    "               color=\"k\")\n",
    "# add density plot on top\n",
    "sns.kdeplot(x=np.asarray(corr_expr_p2g_scores), y=np.asarray(corr_expr_scores), \n",
    "           levels=6, fill=True, alpha=0.7, cut=2, cmap=cmap)\n",
    "plt.plot(np.linspace(-0.2, 1, 100), np.linspace(-0.2, 1, 100) , color='r')\n",
    "plt.xlabel(\"correlation between gene expr. and p2g scores\")\n",
    "plt.ylabel(\"Correlation between gene expr. and ArchR scores\")\n",
    "plt.title(\"Comparing correlation values for {hvg_index.shape[0]} most highly variable genes\")\n",
    "plt.axvline(0, color=\"black\")\n",
    "plt.axhline(0, color=\"black\")"
   ]
  },
  {
   "cell_type": "code",
   "execution_count": null,
   "metadata": {},
   "outputs": [],
   "source": []
  },
  {
   "cell_type": "code",
   "execution_count": null,
   "metadata": {},
   "outputs": [],
   "source": []
  },
  {
   "cell_type": "code",
   "execution_count": null,
   "metadata": {},
   "outputs": [],
   "source": []
  },
  {
   "cell_type": "code",
   "execution_count": null,
   "metadata": {},
   "outputs": [],
   "source": []
  },
  {
   "cell_type": "code",
   "execution_count": null,
   "metadata": {},
   "outputs": [],
   "source": []
  },
  {
   "cell_type": "code",
   "execution_count": null,
   "metadata": {},
   "outputs": [],
   "source": []
  },
  {
   "cell_type": "code",
   "execution_count": null,
   "metadata": {},
   "outputs": [],
   "source": []
  },
  {
   "cell_type": "code",
   "execution_count": null,
   "metadata": {},
   "outputs": [],
   "source": []
  },
  {
   "cell_type": "code",
   "execution_count": null,
   "metadata": {},
   "outputs": [],
   "source": []
  },
  {
   "cell_type": "markdown",
   "metadata": {},
   "source": [
    "#### Check the genes which have negative correlations."
   ]
  },
  {
   "cell_type": "code",
   "execution_count": null,
   "metadata": {},
   "outputs": [],
   "source": [
    "#gene_names_index = [i for i in range(0, len(gene_names))]\n"
   ]
  },
  {
   "cell_type": "code",
   "execution_count": null,
   "metadata": {},
   "outputs": [],
   "source": [
    "# lets check highly variable genes\n",
    "df = pd.read_csv('hvg_list', delimiter=',')"
   ]
  },
  {
   "cell_type": "code",
   "execution_count": null,
   "metadata": {},
   "outputs": [],
   "source": [
    "hvg_list = df[\"x\"].tolist()"
   ]
  },
  {
   "cell_type": "code",
   "execution_count": null,
   "metadata": {},
   "outputs": [],
   "source": [
    "hvg_index = np.where(np.isin(hvg_list, gene_names))[0]\n",
    "print(f\"There are {len(hvg_list)} highly variable genes identified, out of which {hvg_index.shape[0]} are found in our genes x cell aggregates matrix\")"
   ]
  },
  {
   "cell_type": "code",
   "execution_count": null,
   "metadata": {},
   "outputs": [],
   "source": [
    "marker_genes_idx = np.where(np.isin(gene_names, [\"Lamb1\",  \"Sparc\", \"Elf5\", \"Ascl2\", \"Tfap2c\", \"Ttr\", \\\n",
    "                  \"Apoa2\", \"Apoe\", \"Cystm1\", \"Emb\", \"Spink1\",  \"Krt19\", \\\n",
    "                  \"Dkk1\", \"Grhl3\", \"Trp63\", \"Grhl2\",  \"Pax6\", \"Pax2\", \\\n",
    "                  \"En1\", \"Foxd3\", \"Tfap2a\", \"Pax3\", \"Sox9\", \\\n",
    "                  \"Six3\", \"Hesx1\", \"Irx3\", \"Sox2\", \"Hoxb9\", \"Cdx4\",\\\n",
    "                  \"Hes3\", \"Hba-a2\", \"Hba-a1\",  \"Hbb-bh1\", \"Gata1\", \"Cited4\", \\\n",
    "                  \"Cdh5\", \"Pecam1\", \"Anxa5\", \"Etv2\", \"Igf2\",\\\n",
    "                  \"Krt8\", \"Krt18\", \"Pmp22\", \"Ahnak\", \"Bmp4\", \"Tbx4\", \"Hoxa11\", \\\n",
    "                  \"Hoxa10\", \"Tnnt2\", \"Myl4\",  \"Myl7\", \"Acta2\",  \\\n",
    "                  \"Smarcd3\", \"Tcf21\", \"Tbx6\", \"Dll1\", \"Aldh1a2\", \"Tcf15\", \\\n",
    "                  \"Meox1\", \"Tbx1\", \"Gbx2\", \"Cdx1\", \"Hoxb1\", \"Hes7\", \"Osr1\", \\\n",
    "                  \"Mesp2\", \"Lefty2\", \"Mesp1\", \"Cer1\",  \"Chrd\", \"T\", \\\n",
    "                  \"Foxa2\", \"Pax7\", \"Fgf8\", \"Lhx1\", \"Gsc\", \"Mixl1\", \"Otx2\", \"Hhex\",\\\n",
    "                  \"Ifitm3\", \"Nkx1-2\", \"Eomes\", \"Nanog\", \"Utf1\", \\\n",
    "                  \"Epcam\", \"Pou5f1\"]))[[0]]"
   ]
  },
  {
   "cell_type": "code",
   "execution_count": null,
   "metadata": {},
   "outputs": [],
   "source": [
    "sns.histplot(np.asarray(corr_expr_p2g_scores)[hvg_index], bins = 200)\n",
    "plt.axvline(color=\"red\")\n",
    "plt.title(f\"Correlations between gene expression and peak-to-gene linkage gene scores for {hvg_index.shape[0]} highly variable genes\")"
   ]
  },
  {
   "cell_type": "code",
   "execution_count": null,
   "metadata": {},
   "outputs": [],
   "source": [
    "sns.histplot(np.asarray(corr_expr_scores)[hvg_index], bins=200)\n",
    "plt.axvline(color=\"red\")\n",
    "plt.title(f\"Correlations between gene expression and ArchR gene scores for {hvg_index.shape[0]} highly variable genes\")"
   ]
  },
  {
   "cell_type": "code",
   "execution_count": null,
   "metadata": {},
   "outputs": [],
   "source": [
    "sns.histplot(np.asarray(corr_scores)[hvg_index], bins=200)\n",
    "plt.axvline(color=\"red\")\n",
    "plt.title(f\"Correlations between ArchR gene scores and p2g-linkage gene scores for {hvg_index.shape[0]} highly variable genes\")"
   ]
  },
  {
   "cell_type": "code",
   "execution_count": null,
   "metadata": {},
   "outputs": [],
   "source": []
  },
  {
   "cell_type": "code",
   "execution_count": null,
   "metadata": {},
   "outputs": [],
   "source": []
  },
  {
   "cell_type": "code",
   "execution_count": null,
   "metadata": {},
   "outputs": [],
   "source": []
  },
  {
   "cell_type": "code",
   "execution_count": null,
   "metadata": {},
   "outputs": [],
   "source": []
  },
  {
   "cell_type": "code",
   "execution_count": null,
   "metadata": {},
   "outputs": [],
   "source": []
  },
  {
   "cell_type": "code",
   "execution_count": null,
   "metadata": {},
   "outputs": [],
   "source": [
    "type(scores_p2g_agg)"
   ]
  },
  {
   "cell_type": "code",
   "execution_count": null,
   "metadata": {},
   "outputs": [],
   "source": [
    "sns.histplot(scores_p2g_agg)"
   ]
  },
  {
   "cell_type": "code",
   "execution_count": null,
   "metadata": {},
   "outputs": [],
   "source": [
    "df = pd.DataFrame(list(zip(corr_aggregates, celltype_list)),\n",
    "               columns =['Corr', 'Celltype'])"
   ]
  },
  {
   "cell_type": "code",
   "execution_count": null,
   "metadata": {},
   "outputs": [],
   "source": [
    "colPalette_celltypes = ['#532C8A',\n",
    " '#c19f70',\n",
    " '#f9decf',\n",
    " '#c9a997',\n",
    " '#B51D8D',\n",
    " '#3F84AA',\n",
    " '#9e6762',\n",
    " '#354E23',\n",
    " '#F397C0',\n",
    " '#ff891c',\n",
    " '#635547',\n",
    " '#C72228',\n",
    " '#f79083',\n",
    " '#EF4E22',\n",
    " '#989898',\n",
    " '#7F6874',\n",
    " '#8870ad',\n",
    " '#647a4f',\n",
    " '#EF5A9D',\n",
    " '#FBBE92',\n",
    " '#139992',\n",
    " '#cc7818',\n",
    " '#DFCDE4',\n",
    " '#8EC792',\n",
    " '#C594BF',\n",
    " '#C3C388',\n",
    " '#0F4A9C',\n",
    " '#FACB12',\n",
    " '#8DB5CE',\n",
    " '#1A1A1A',\n",
    " '#C9EBFB',\n",
    " '#DABE99',\n",
    " '#65A83E',\n",
    " '#005579',\n",
    " '#CDE088',\n",
    " '#f7f79e',\n",
    " '#F6BFCB']"
   ]
  },
  {
   "cell_type": "code",
   "execution_count": null,
   "metadata": {},
   "outputs": [],
   "source": [
    "sc.set_figure_params(figsize=(10,10))\n",
    "sns.histplot(df, x = \"Corr\", hue = \"Celltype\")\n",
    "sns.color_palette(colPalette_celltypes)\n",
    "plt.title(\"Correlation between gene expression and ArchR gene score across genes\")\n",
    "#plt.legend([],[], frameon=False)\n",
    "plt.show()"
   ]
  },
  {
   "cell_type": "code",
   "execution_count": null,
   "metadata": {},
   "outputs": [],
   "source": []
  },
  {
   "cell_type": "code",
   "execution_count": null,
   "metadata": {},
   "outputs": [],
   "source": []
  },
  {
   "cell_type": "code",
   "execution_count": null,
   "metadata": {},
   "outputs": [],
   "source": []
  },
  {
   "cell_type": "code",
   "execution_count": null,
   "metadata": {},
   "outputs": [],
   "source": []
  },
  {
   "cell_type": "code",
   "execution_count": null,
   "metadata": {},
   "outputs": [],
   "source": []
  },
  {
   "cell_type": "code",
   "execution_count": null,
   "metadata": {},
   "outputs": [],
   "source": []
  },
  {
   "cell_type": "code",
   "execution_count": null,
   "metadata": {},
   "outputs": [],
   "source": []
  },
  {
   "cell_type": "code",
   "execution_count": null,
   "metadata": {},
   "outputs": [],
   "source": []
  },
  {
   "cell_type": "code",
   "execution_count": null,
   "metadata": {},
   "outputs": [],
   "source": []
  },
  {
   "cell_type": "code",
   "execution_count": null,
   "metadata": {},
   "outputs": [],
   "source": []
  },
  {
   "cell_type": "markdown",
   "metadata": {},
   "source": [
    "Convert sparse matrices to csr matrices:"
   ]
  },
  {
   "cell_type": "code",
   "execution_count": null,
   "metadata": {},
   "outputs": [],
   "source": [
    "expr_agg = csr.CSR.from_scipy(filt_rna_agg)"
   ]
  },
  {
   "cell_type": "code",
   "execution_count": null,
   "metadata": {},
   "outputs": [],
   "source": [
    "score_agg = csr.CSR.from_scipy(score_agg)"
   ]
  },
  {
   "cell_type": "code",
   "execution_count": null,
   "metadata": {},
   "outputs": [],
   "source": [
    "scores_p2g_agg = csr.CSR.from_scipy(scores_p2g_agg) "
   ]
  },
  {
   "cell_type": "code",
   "execution_count": null,
   "metadata": {},
   "outputs": [],
   "source": [
    "# get number of genes\n",
    "N = rna_agg.shape[0]"
   ]
  },
  {
   "cell_type": "code",
   "execution_count": null,
   "metadata": {},
   "outputs": [],
   "source": [
    "corr_expr_scores = rowwise_correlation(expr_agg, score_agg)"
   ]
  },
  {
   "cell_type": "markdown",
   "metadata": {},
   "source": [
    "### Save correlations"
   ]
  },
  {
   "cell_type": "code",
   "execution_count": null,
   "metadata": {},
   "outputs": [],
   "source": [
    "with open( 'corr_expr_scores.pkl', 'wb') as f:\n",
    "    pickle.dump(corr_expr_scores, f)"
   ]
  },
  {
   "cell_type": "code",
   "execution_count": null,
   "metadata": {},
   "outputs": [],
   "source": [
    "with open(dir_data + 'corr_expr_p2g_scores.pkl', 'wb') as f:\n",
    "    pickle.dump(corr_expr_p2g_scores, f)"
   ]
  },
  {
   "cell_type": "code",
   "execution_count": null,
   "metadata": {},
   "outputs": [],
   "source": [
    "with open(dir_data + 'corr_scores.pkl', 'wb') as f:\n",
    "    pickle.dump(corr_scores, f)"
   ]
  },
  {
   "cell_type": "code",
   "execution_count": null,
   "metadata": {},
   "outputs": [],
   "source": []
  },
  {
   "cell_type": "code",
   "execution_count": null,
   "metadata": {},
   "outputs": [],
   "source": []
  },
  {
   "cell_type": "code",
   "execution_count": null,
   "metadata": {},
   "outputs": [],
   "source": [
    "A = rna_agg.copy\n",
    "A.shapeb\n",
    "A -= np.mean(A)\n",
    "A.shape"
   ]
  },
  {
   "cell_type": "code",
   "execution_count": null,
   "metadata": {},
   "outputs": [],
   "source": []
  },
  {
   "cell_type": "code",
   "execution_count": null,
   "metadata": {},
   "outputs": [],
   "source": [
    "A = rna_agg.copy()\n",
    "print(A.shape)\n",
    "print(np.mean(A, axis=1).shape)\n",
    "A -= np.mean(A, axis=1)\n",
    "print(A.shape)\n",
    "print(np.std(A, axis=1).shape)\n",
    "print(np.std(A, axis=1))\n",
    "#A /= np.std(A, axis=1)\n"
   ]
  },
  {
   "cell_type": "code",
   "execution_count": null,
   "metadata": {},
   "outputs": [],
   "source": [
    "A[np.where(np.std(A, axis=1) == 0)].shape"
   ]
  },
  {
   "cell_type": "code",
   "execution_count": null,
   "metadata": {},
   "outputs": [],
   "source": [
    "A = rna_agg.copy()\n",
    "A.shape\n",
    "A -= np.mean(A, axis=1)\n",
    "A.shape\n",
    "A /= np.std(A, axis=1)\n",
    "B = score_agg.copy()\n",
    "\n",
    "B -= np.mean(B, axis=1)\n",
    "B /= np.std(B, axis=1)\n",
    "\n",
    "corr = np.mean(A*B, axis = 1)"
   ]
  },
  {
   "cell_type": "code",
   "execution_count": null,
   "metadata": {},
   "outputs": [],
   "source": [
    "corr"
   ]
  },
  {
   "cell_type": "code",
   "execution_count": null,
   "metadata": {},
   "outputs": [],
   "source": [
    "A = rna_agg.copy()\n",
    "B = score_agg.copy()\n",
    "cA = A - A.mean(axis=1)\n",
    "cB = B - B.mean(axis=1)\n",
    "print(cA.shape)\n",
    "print(np.square(cA))\n",
    "#print((cA**2).shape)\n",
    "sA = np.sqrt((np.square(cA)).mean(axis=1))\n",
    "sB = np.sqrt((cB**2).mean(axis=1))\n",
    "corr = (cA*cB).mean(axis=1) / sA*sB"
   ]
  },
  {
   "cell_type": "code",
   "execution_count": null,
   "metadata": {},
   "outputs": [],
   "source": [
    "corr"
   ]
  },
  {
   "cell_type": "code",
   "execution_count": null,
   "metadata": {},
   "outputs": [],
   "source": [
    "score_agg.shape"
   ]
  },
  {
   "cell_type": "code",
   "execution_count": null,
   "metadata": {},
   "outputs": [],
   "source": [
    "import seaborn as sns\n",
    "sns.histplot(x = corr_scores)\n",
    "plt.show()"
   ]
  },
  {
   "cell_type": "code",
   "execution_count": null,
   "metadata": {},
   "outputs": [],
   "source": [
    "import seaborn as sns\n",
    "sns.histplot(x = corr_expr_p2g_scores)\n",
    "plt.show()"
   ]
  },
  {
   "cell_type": "code",
   "execution_count": null,
   "metadata": {},
   "outputs": [],
   "source": [
    "\n",
    "import seaborn as sns\n",
    "sns.histplot(x = corr_expr_scores)\n",
    "plt.show()"
   ]
  },
  {
   "cell_type": "code",
   "execution_count": null,
   "metadata": {},
   "outputs": [],
   "source": [
    "sns.scatterplot(x =corr_expr_p2g_scores, y =  corr_expr_scores)"
   ]
  },
  {
   "cell_type": "code",
   "execution_count": null,
   "metadata": {},
   "outputs": [],
   "source": [
    "sns.scatterplot(x =corr_expr_p2g_scores, y =  corr_expr_scores )"
   ]
  },
  {
   "cell_type": "code",
   "execution_count": null,
   "metadata": {},
   "outputs": [],
   "source": []
  },
  {
   "cell_type": "code",
   "execution_count": null,
   "metadata": {},
   "outputs": [],
   "source": []
  },
  {
   "cell_type": "code",
   "execution_count": null,
   "metadata": {},
   "outputs": [],
   "source": []
  },
  {
   "cell_type": "markdown",
   "metadata": {},
   "source": [
    "## Leiden Clustering"
   ]
  },
  {
   "cell_type": "markdown",
   "metadata": {},
   "source": [
    "Since we already have celltype annotations we might simply use Leiden Clustering to create cell aggregates. We would expect these to be celltype-specific if done at high enough resolution, but we could also try to do Leiden Clustering based on each celltype individually."
   ]
  },
  {
   "cell_type": "code",
   "execution_count": null,
   "metadata": {},
   "outputs": [],
   "source": [
    "import igraph as ig\n",
    "import leidenalg as la"
   ]
  },
  {
   "cell_type": "markdown",
   "metadata": {},
   "source": [
    "With a resolution of 100, I get 930 clusters, which is probably too much. "
   ]
  },
  {
   "cell_type": "code",
   "execution_count": null,
   "metadata": {},
   "outputs": [],
   "source": [
    "sc.tl.leiden(adata, resolution=100, key_added=\"cluster_pvi\")#, restrict_to=(\"celltype\", adata.obs.celltype.unique()))"
   ]
  },
  {
   "cell_type": "code",
   "execution_count": null,
   "metadata": {},
   "outputs": [],
   "source": [
    "adata.obs.cluster_pvi.unique()"
   ]
  },
  {
   "cell_type": "code",
   "execution_count": null,
   "metadata": {},
   "outputs": [],
   "source": [
    "plt.hist(adata.obs.cluster_pvi, bins = 500)\n",
    "plt.show()"
   ]
  },
  {
   "cell_type": "markdown",
   "metadata": {},
   "source": [
    "If I reduce the resolution to 50, I get 483 cells. "
   ]
  },
  {
   "cell_type": "code",
   "execution_count": null,
   "metadata": {},
   "outputs": [],
   "source": [
    "sc.tl.leiden(adata, resolution=50, key_added=\"cluster_pvi\")#, restrict_to=(\"celltype\", adata.obs.celltype.unique()))"
   ]
  },
  {
   "cell_type": "code",
   "execution_count": null,
   "metadata": {},
   "outputs": [],
   "source": [
    "adata.obs.cluster_pvi.unique()"
   ]
  },
  {
   "cell_type": "code",
   "execution_count": null,
   "metadata": {},
   "outputs": [],
   "source": [
    "plt.hist(adata.obs.cluster_pvi, bins = 500)\n",
    "plt.show()"
   ]
  },
  {
   "cell_type": "code",
   "execution_count": null,
   "metadata": {},
   "outputs": [],
   "source": [
    "adata.obs.cluster_pvi"
   ]
  },
  {
   "cell_type": "code",
   "execution_count": null,
   "metadata": {},
   "outputs": [],
   "source": [
    "adata.obs.groupby(\"cluster_pvi\").count()"
   ]
  },
  {
   "cell_type": "markdown",
   "metadata": {},
   "source": [
    "### Subset to do Leiden Clustering on individual celltypes"
   ]
  },
  {
   "cell_type": "markdown",
   "metadata": {},
   "source": [
    "Does it make sense to create clusters of different size or should I aim to create clusters which are similar in size for each celltype. This means that if there are more cells of a celltype I will get more clusters of that type."
   ]
  },
  {
   "cell_type": "markdown",
   "metadata": {},
   "source": [
    "### Erythroids"
   ]
  },
  {
   "cell_type": "code",
   "execution_count": null,
   "metadata": {},
   "outputs": [],
   "source": [
    "adata_subset = adata[adata.obs['celltype'] == \"Erythroid2\"]\n",
    "print(f\"The number of celsl for Erythroids are: {adata_subset.shape[0]}\")"
   ]
  },
  {
   "cell_type": "code",
   "execution_count": null,
   "metadata": {},
   "outputs": [],
   "source": [
    "sc.tl.leiden(adata_subset, resolution=.6, key_added=\"Erythroid_clusters\")"
   ]
  },
  {
   "cell_type": "code",
   "execution_count": null,
   "metadata": {},
   "outputs": [],
   "source": [
    "sc.tl.umap(adata_subset, min_dist=0.2)\n",
    "sc.pl.umap(adata_subset, color='Erythroid_clusters')"
   ]
  },
  {
   "cell_type": "code",
   "execution_count": null,
   "metadata": {},
   "outputs": [],
   "source": [
    "adata_subset.obs.groupby(\"Erythroid_clusters\").count()"
   ]
  },
  {
   "cell_type": "markdown",
   "metadata": {},
   "source": [
    "### Erythroid1"
   ]
  },
  {
   "cell_type": "code",
   "execution_count": null,
   "metadata": {},
   "outputs": [],
   "source": [
    "adata_subset = adata[adata.obs['celltype'] == \"Erythroid1\"]\n",
    "print(f\"The number of celsl for Erythroids are: {adata_subset.shape[0]}\")"
   ]
  },
  {
   "cell_type": "code",
   "execution_count": null,
   "metadata": {},
   "outputs": [],
   "source": [
    "sc.tl.leiden(adata_subset, resolution=.6, key_added=\"Erythroid_clusters\")"
   ]
  },
  {
   "cell_type": "code",
   "execution_count": null,
   "metadata": {},
   "outputs": [],
   "source": [
    "sc.tl.umap(adata_subset, min_dist=0.2)\n",
    "sc.pl.umap(adata_subset, color='Erythroid_clusters')"
   ]
  },
  {
   "cell_type": "code",
   "execution_count": null,
   "metadata": {},
   "outputs": [],
   "source": [
    "adata_subset.obs.groupby(\"Erythroid_clusters\").count()"
   ]
  },
  {
   "cell_type": "markdown",
   "metadata": {},
   "source": [
    "Here I will remove Cluster 6, because it only contains 6 cells."
   ]
  },
  {
   "cell_type": "markdown",
   "metadata": {},
   "source": [
    "### Erythroid 3"
   ]
  },
  {
   "cell_type": "code",
   "execution_count": null,
   "metadata": {},
   "outputs": [],
   "source": [
    "adata_subset = adata[adata.obs['celltype'] == \"Erythroid3\"]\n",
    "print(f\"The number of celsl for Erythroids are: {adata_subset.shape[0]}\")"
   ]
  },
  {
   "cell_type": "code",
   "execution_count": null,
   "metadata": {},
   "outputs": [],
   "source": [
    "sc.tl.leiden(adata_subset, resolution=.2, key_added=\"Erythroid_clusters\")"
   ]
  },
  {
   "cell_type": "code",
   "execution_count": null,
   "metadata": {},
   "outputs": [],
   "source": [
    "sc.tl.umap(adata_subset, min_dist=0.2)\n",
    "sc.pl.umap(adata_subset, color='Erythroid_clusters')"
   ]
  },
  {
   "cell_type": "code",
   "execution_count": null,
   "metadata": {},
   "outputs": [],
   "source": [
    "adata_subset.obs.groupby(\"Erythroid_clusters\").count()"
   ]
  },
  {
   "cell_type": "markdown",
   "metadata": {},
   "source": [
    "### Parietal Endoderm"
   ]
  },
  {
   "cell_type": "code",
   "execution_count": null,
   "metadata": {},
   "outputs": [],
   "source": [
    "adata_subset = adata[adata.obs['celltype'] == \"Parietal_endoderm\"]\n",
    "print(f\"The number of celsl for Erythroids are: {adata_subset.shape[0]}\")"
   ]
  },
  {
   "cell_type": "code",
   "execution_count": null,
   "metadata": {},
   "outputs": [],
   "source": [
    "sc.tl.leiden(adata_subset, resolution=.6, key_added=\"clusters\")"
   ]
  },
  {
   "cell_type": "code",
   "execution_count": null,
   "metadata": {},
   "outputs": [],
   "source": [
    "sc.tl.umap(adata_subset, min_dist=0.2)\n",
    "sc.pl.umap(adata_subset, color='clusters')"
   ]
  },
  {
   "cell_type": "code",
   "execution_count": null,
   "metadata": {},
   "outputs": [],
   "source": [
    "adata_subset.obs.groupby(\"clusters\").count()"
   ]
  },
  {
   "cell_type": "markdown",
   "metadata": {},
   "source": [
    "Here I want to remove cluster 3 and cluster 4, because they contain very few cells."
   ]
  },
  {
   "cell_type": "code",
   "execution_count": null,
   "metadata": {},
   "outputs": [],
   "source": [
    "adata.obs.celltype.unique()"
   ]
  },
  {
   "cell_type": "markdown",
   "metadata": {},
   "source": [
    "### Manus version of doing celltype-specific Leiden clustering"
   ]
  },
  {
   "cell_type": "code",
   "execution_count": null,
   "metadata": {},
   "outputs": [],
   "source": [
    "df_leiden_list=[]"
   ]
  },
  {
   "cell_type": "code",
   "execution_count": null,
   "metadata": {},
   "outputs": [],
   "source": [
    "for cell_type in adata.obs['celltype'].unique():\n",
    "    adata_celltype =adata[adata.obs['celltype']==cell_type,:]\n",
    "    if adata_celltype.shape[0]>80:\n",
    "        sc.pp.neighbors(adata_celltype, use_rep=\"X_scVI\",n_neighbors=100, n_pcs=50)\n",
    "        sc.tl.leiden(adata_celltype, resolution=1)\n",
    "        #sc.tl.leiden(adata_celltype, resolution=0.2)  # decreasing resolution\n",
    "        sc.tl.umap(adata_celltype, spread=1., min_dist=.5, random_state=11)\n",
    "        sc.pl.umap(adata_celltype, color=\"leiden\", legend_loc=\"on data\",edges=False,title=cell_type)\n",
    "        adata_celltype.obs['leiden_name'] = [str(s) + '_'+ cell_type for s in adata_celltype.obs['leiden'] ]\n",
    "        adata_celltype.obs['cell_name'] = adata_celltype.obs.index\n",
    "\n",
    "        cluster_celltype = adata_celltype.obs[['cell_name','leiden_name']]\n",
    "        df_leiden_list.append(cluster_celltype)\n",
    "        \n",
    "    else:\n",
    "        adata_celltype.obs['leiden_name'] = [str(0) + '_'+ cell_type for s in range(adata_celltype.obs.shape[0]) ]\n",
    "        adata_celltype.obs['cell_name'] = adata_celltype.obs.index\n",
    "\n",
    "        cluster_celltype = adata_celltype.obs[['cell_name','leiden_name']]\n",
    "        df_leiden_list.append(cluster_celltype)"
   ]
  },
  {
   "cell_type": "code",
   "execution_count": null,
   "metadata": {},
   "outputs": [],
   "source": [
    "adata"
   ]
  },
  {
   "cell_type": "code",
   "execution_count": null,
   "metadata": {},
   "outputs": [],
   "source": [
    "# higher resolution values lead to more clusters\n",
    "help(sc.tl.leiden)"
   ]
  },
  {
   "cell_type": "code",
   "execution_count": null,
   "metadata": {},
   "outputs": [],
   "source": [
    "la.find_partition(latent, la.ModularityVertexPartition)"
   ]
  },
  {
   "cell_type": "code",
   "execution_count": null,
   "metadata": {},
   "outputs": [],
   "source": [
    "help(la.find_partition)"
   ]
  }
 ],
 "metadata": {
  "kernelspec": {
   "display_name": "scvi2",
   "language": "python",
   "name": "scvi2"
  },
  "language_info": {
   "codemirror_mode": {
    "name": "ipython",
    "version": 3
   },
   "file_extension": ".py",
   "mimetype": "text/x-python",
   "name": "python",
   "nbconvert_exporter": "python",
   "pygments_lexer": "ipython3",
   "version": "3.7.12"
  }
 },
 "nbformat": 4,
 "nbformat_minor": 4
}
