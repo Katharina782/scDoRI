{
 "cells": [
  {
   "cell_type": "code",
   "execution_count": 3,
   "metadata": {},
   "outputs": [],
   "source": [
    "import scanpy as sc\n",
    "import scvi\n",
    "import numpy as np\n",
    "import anndata as ad\n",
    "from anndata import AnnData\n",
    "from scipy import sparse\n",
    "import pandas as pd\n",
    "\n",
    "# paths to files and save\n",
    "#dir_data = \"/omics/groups/OE0533/internal/katharina/scDoRI/gastrulation/jupyter_notebooks/data/\"\n",
    "#dir_checkpoint = \"/dkfz/cluster/gpu/checkpoints/OE0533/k552k/\"\n",
    "\n",
    "# read rna and atac anndata objects\n",
    "rna_adata = scvi.data.read_h5ad(\"anndata_rna.h5ad\")\n",
    "atac_adata = scvi.data.read_h5ad(\"anndata_atac_peak_matrix.h5ad\")\n",
    "\n",
    "#adata.var_names_make_unique()\n",
    "rna_adata.var_names_make_unique()\n",
    "atac_adata.var_names_make_unique()"
   ]
  },
  {
   "cell_type": "code",
   "execution_count": 2,
   "metadata": {},
   "outputs": [
    {
     "ename": "MemoryError",
     "evalue": "Unable to allocate 2.73 GiB for an array with shape (733840916,) and data type float32",
     "output_type": "error",
     "traceback": [
      "\u001b[0;31m---------------------------------------------------------------------------\u001b[0m",
      "\u001b[0;31mMemoryError\u001b[0m                               Traceback (most recent call last)",
      "\u001b[0;32m/tmp/ipykernel_62180/1201060960.py\u001b[0m in \u001b[0;36m<module>\u001b[0;34m\u001b[0m\n\u001b[1;32m     33\u001b[0m \u001b[0;34m\u001b[0m\u001b[0m\n\u001b[1;32m     34\u001b[0m \u001b[0;31m# create a multiome object\u001b[0m\u001b[0;34m\u001b[0m\u001b[0;34m\u001b[0m\u001b[0;34m\u001b[0m\u001b[0m\n\u001b[0;32m---> 35\u001b[0;31m \u001b[0madata_mvi\u001b[0m \u001b[0;34m=\u001b[0m \u001b[0mscvi\u001b[0m\u001b[0;34m.\u001b[0m\u001b[0mdata\u001b[0m\u001b[0;34m.\u001b[0m\u001b[0morganize_multiome_anndatas\u001b[0m\u001b[0;34m(\u001b[0m\u001b[0mmultiome\u001b[0m\u001b[0;34m)\u001b[0m\u001b[0;34m\u001b[0m\u001b[0;34m\u001b[0m\u001b[0m\n\u001b[0m\u001b[1;32m     36\u001b[0m \u001b[0;34m\u001b[0m\u001b[0m\n\u001b[1;32m     37\u001b[0m \u001b[0;31m# sort the object var\u001b[0m\u001b[0;34m\u001b[0m\u001b[0;34m\u001b[0m\u001b[0;34m\u001b[0m\u001b[0m\n",
      "\u001b[0;32m/omics/groups/OE0533/internal/katharina/scvi2/lib/python3.7/site-packages/scvi/data/_preprocessing.py\u001b[0m in \u001b[0;36morganize_multiome_anndatas\u001b[0;34m(multi_anndata, rna_anndata, atac_anndata, modality_key)\u001b[0m\n\u001b[1;32m    314\u001b[0m     \u001b[0mAn\u001b[0m \u001b[0mAnnData\u001b[0m \u001b[0mobject\u001b[0m \u001b[0;32mwith\u001b[0m \u001b[0mall\u001b[0m \u001b[0mcells\u001b[0m \u001b[0;32min\u001b[0m \u001b[0mthe\u001b[0m \u001b[0minput\u001b[0m \u001b[0mobjects\u001b[0m\u001b[0;34m\u001b[0m\u001b[0;34m\u001b[0m\u001b[0m\n\u001b[1;32m    315\u001b[0m     \"\"\"\n\u001b[0;32m--> 316\u001b[0;31m     \u001b[0mres_anndata\u001b[0m \u001b[0;34m=\u001b[0m \u001b[0mmulti_anndata\u001b[0m\u001b[0;34m.\u001b[0m\u001b[0mcopy\u001b[0m\u001b[0;34m(\u001b[0m\u001b[0;34m)\u001b[0m\u001b[0;34m\u001b[0m\u001b[0;34m\u001b[0m\u001b[0m\n\u001b[0m\u001b[1;32m    317\u001b[0m \u001b[0;34m\u001b[0m\u001b[0m\n\u001b[1;32m    318\u001b[0m     \u001b[0mmodality_ann\u001b[0m \u001b[0;34m=\u001b[0m \u001b[0;34m[\u001b[0m\u001b[0;34m\"paired\"\u001b[0m\u001b[0;34m]\u001b[0m \u001b[0;34m*\u001b[0m \u001b[0mmulti_anndata\u001b[0m\u001b[0;34m.\u001b[0m\u001b[0mshape\u001b[0m\u001b[0;34m[\u001b[0m\u001b[0;36m0\u001b[0m\u001b[0;34m]\u001b[0m\u001b[0;34m\u001b[0m\u001b[0;34m\u001b[0m\u001b[0m\n",
      "\u001b[0;32m/omics/groups/OE0533/internal/katharina/scvi2/lib/python3.7/site-packages/anndata/_core/anndata.py\u001b[0m in \u001b[0;36mcopy\u001b[0;34m(self, filename)\u001b[0m\n\u001b[1;32m   1513\u001b[0m                 \u001b[0mX\u001b[0m \u001b[0;34m=\u001b[0m \u001b[0m_subset\u001b[0m\u001b[0;34m(\u001b[0m\u001b[0mself\u001b[0m\u001b[0;34m.\u001b[0m\u001b[0m_adata_ref\u001b[0m\u001b[0;34m.\u001b[0m\u001b[0mX\u001b[0m\u001b[0;34m,\u001b[0m \u001b[0;34m(\u001b[0m\u001b[0mself\u001b[0m\u001b[0;34m.\u001b[0m\u001b[0m_oidx\u001b[0m\u001b[0;34m,\u001b[0m \u001b[0mself\u001b[0m\u001b[0;34m.\u001b[0m\u001b[0m_vidx\u001b[0m\u001b[0;34m)\u001b[0m\u001b[0;34m)\u001b[0m\u001b[0;34m.\u001b[0m\u001b[0mcopy\u001b[0m\u001b[0;34m(\u001b[0m\u001b[0;34m)\u001b[0m\u001b[0;34m\u001b[0m\u001b[0;34m\u001b[0m\u001b[0m\n\u001b[1;32m   1514\u001b[0m             \u001b[0;32melse\u001b[0m\u001b[0;34m:\u001b[0m\u001b[0;34m\u001b[0m\u001b[0;34m\u001b[0m\u001b[0m\n\u001b[0;32m-> 1515\u001b[0;31m                 \u001b[0mX\u001b[0m \u001b[0;34m=\u001b[0m \u001b[0mself\u001b[0m\u001b[0;34m.\u001b[0m\u001b[0mX\u001b[0m\u001b[0;34m.\u001b[0m\u001b[0mcopy\u001b[0m\u001b[0;34m(\u001b[0m\u001b[0;34m)\u001b[0m\u001b[0;34m\u001b[0m\u001b[0;34m\u001b[0m\u001b[0m\n\u001b[0m\u001b[1;32m   1516\u001b[0m             \u001b[0;32mreturn\u001b[0m \u001b[0mself\u001b[0m\u001b[0;34m.\u001b[0m\u001b[0m_mutated_copy\u001b[0m\u001b[0;34m(\u001b[0m\u001b[0mX\u001b[0m\u001b[0;34m=\u001b[0m\u001b[0mX\u001b[0m\u001b[0;34m)\u001b[0m\u001b[0;34m\u001b[0m\u001b[0;34m\u001b[0m\u001b[0m\n\u001b[1;32m   1517\u001b[0m         \u001b[0;32melse\u001b[0m\u001b[0;34m:\u001b[0m\u001b[0;34m\u001b[0m\u001b[0;34m\u001b[0m\u001b[0m\n",
      "\u001b[0;32m/omics/groups/OE0533/internal/katharina/scvi2/lib/python3.7/site-packages/scipy/sparse/data.py\u001b[0m in \u001b[0;36mcopy\u001b[0;34m(self)\u001b[0m\n\u001b[1;32m     90\u001b[0m \u001b[0;34m\u001b[0m\u001b[0m\n\u001b[1;32m     91\u001b[0m     \u001b[0;32mdef\u001b[0m \u001b[0mcopy\u001b[0m\u001b[0;34m(\u001b[0m\u001b[0mself\u001b[0m\u001b[0;34m)\u001b[0m\u001b[0;34m:\u001b[0m\u001b[0;34m\u001b[0m\u001b[0;34m\u001b[0m\u001b[0m\n\u001b[0;32m---> 92\u001b[0;31m         \u001b[0;32mreturn\u001b[0m \u001b[0mself\u001b[0m\u001b[0;34m.\u001b[0m\u001b[0m_with_data\u001b[0m\u001b[0;34m(\u001b[0m\u001b[0mself\u001b[0m\u001b[0;34m.\u001b[0m\u001b[0mdata\u001b[0m\u001b[0;34m.\u001b[0m\u001b[0mcopy\u001b[0m\u001b[0;34m(\u001b[0m\u001b[0;34m)\u001b[0m\u001b[0;34m,\u001b[0m \u001b[0mcopy\u001b[0m\u001b[0;34m=\u001b[0m\u001b[0;32mTrue\u001b[0m\u001b[0;34m)\u001b[0m\u001b[0;34m\u001b[0m\u001b[0;34m\u001b[0m\u001b[0m\n\u001b[0m\u001b[1;32m     93\u001b[0m \u001b[0;34m\u001b[0m\u001b[0m\n\u001b[1;32m     94\u001b[0m     \u001b[0mcopy\u001b[0m\u001b[0;34m.\u001b[0m\u001b[0m__doc__\u001b[0m \u001b[0;34m=\u001b[0m \u001b[0mspmatrix\u001b[0m\u001b[0;34m.\u001b[0m\u001b[0mcopy\u001b[0m\u001b[0;34m.\u001b[0m\u001b[0m__doc__\u001b[0m\u001b[0;34m\u001b[0m\u001b[0;34m\u001b[0m\u001b[0m\n",
      "\u001b[0;31mMemoryError\u001b[0m: Unable to allocate 2.73 GiB for an array with shape (733840916,) and data type float32"
     ]
    }
   ],
   "source": [
    "# this old object is used for filtering, because we will use those gene annotations\n",
    "old = scvi.data.read_h5ad(\"old_anndata_rna.h5ad\")\n",
    "\n",
    "rna_adata = rna_adata[:,rna_adata.var.index.isin(old.var.index)]\n",
    "annotations = pd.merge(old.var, rna_adata.var, on=\"gene\", how = \"inner\")\n",
    "annotations.index = old.var.index\n",
    "annotations = annotations.drop([\"gene\", \"Strand\"], axis=1)\n",
    "annotations = annotations.rename(columns={\"Accession\":\"ID\", \"End\":\"end\", \"Start\":\"start\", \"Chromosome\":\"chr\"})\n",
    "rna_adata.var = annotations\n",
    "\n",
    "# combine counts and accessibility matrix\n",
    "matrix = sparse.hstack((rna_adata.X, atac_adata.X))\n",
    "\n",
    "# create dataframe for rna\n",
    "rna_df = rna_adata.var\n",
    "rna_df[\"modality\"] = [\"Gene_expression\" for i in range(len(rna_df))]\n",
    "\n",
    "# create dataframe for atac\n",
    "atac_df = atac_adata.var\n",
    "atac_df = atac_df.rename(columns={\"idx\":\"ID\"})\n",
    "atac_df[\"modality\"]=[\"Peaks\" for i in range(len(atac_df))]\n",
    "atac_df = atac_df.drop([\"score\"], axis = 1)\n",
    "\n",
    "# combine the two dataframes\n",
    "df = rna_df.append(atac_df)\n",
    "\n",
    "# create a combined anndata object\n",
    "multiome = AnnData(\n",
    "X = matrix,\n",
    "obs = atac_adata.obs,\n",
    "var = df,\n",
    "uns = rna_adata.uns)\n",
    "\n",
    "# create a multiome object\n",
    "adata_mvi = scvi.data.organize_multiome_anndatas(multiome)\n",
    "\n",
    "# sort the object var\n",
    "adata_mvi = adata_mvi[:, adata_mvi.var[\"modality\"].argsort()].copy()\n",
    "\n",
    "\n",
    "# filter features which appear in < 1%\n",
    "sc.pp.filter_genes(adata_mvi, min_cells=int(adata_mvi.shape[0] * 0.01))"
   ]
  },
  {
   "cell_type": "code",
   "execution_count": 8,
   "metadata": {},
   "outputs": [],
   "source": [
    "adata_mvi = scvi.data.read_h5ad(\"mvi_default/anndata_object\")"
   ]
  },
  {
   "cell_type": "code",
   "execution_count": 21,
   "metadata": {},
   "outputs": [
    {
     "data": {
      "text/plain": [
       "Index(['BlacklistRatio', 'nDiFrags', 'nFrags', 'nMonoFrags', 'nMultiFrags',\n",
       "       'NucleosomeRatio', 'PassQC', 'PromoterRatio', 'ReadsInBlacklist',\n",
       "       'ReadsInPromoter', 'ReadsInTSS', 'Sample', 'TSSEnrichment', 'barcode',\n",
       "       'sample', 'nFeature_RNA', 'nCount_RNA', 'mitochondrial_percent_RNA',\n",
       "       'ribosomal_percent_RNA', 'stage', 'pass_rnaQC', 'doublet_score',\n",
       "       'doublet_call', 'celltype.mapped_mnn', 'celltype.score_mnn',\n",
       "       'closest.cell', 'celltype.mapped_seurat', 'celltype.score_seurat',\n",
       "       'TSSEnrichment_atac', 'ReadsInTSS_atac', 'PromoterRatio_atac',\n",
       "       'NucleosomeRatio_atac', 'nFrags_atac', 'BlacklistRatio_atac',\n",
       "       'ReadsInPeaks', 'FRIP', 'modality', '_scvi_batch', '_scvi_labels'],\n",
       "      dtype='object')"
      ]
     },
     "execution_count": 21,
     "metadata": {},
     "output_type": "execute_result"
    }
   ],
   "source": [
    "adata_mvi.obs.columns"
   ]
  },
  {
   "cell_type": "code",
   "execution_count": null,
   "metadata": {},
   "outputs": [],
   "source": [
    "rna_adata = scvi.data.read_h5ad(\"anndata_rna.h5ad\")"
   ]
  },
  {
   "cell_type": "code",
   "execution_count": 16,
   "metadata": {},
   "outputs": [
    {
     "name": "stdout",
     "output_type": "stream",
     "text": [
      "Help on method setup_anndata in module scvi.model._multivi:\n",
      "\n",
      "setup_anndata(adata: anndata._core.anndata.AnnData, layer: Union[str, NoneType] = None, batch_key: Union[str, NoneType] = None, labels_key: Union[str, NoneType] = None, size_factor_key: Union[str, NoneType] = None, categorical_covariate_keys: Union[List[str], NoneType] = None, continuous_covariate_keys: Union[List[str], NoneType] = None, **kwargs) method of scvi.model.base._base_model.BaseModelMetaClass instance\n",
      "    Sets up the :class:`~anndata.AnnData` object for this model.\n",
      "        A mapping will be created between data fields used by this model to their respective locations in adata.\n",
      "    \n",
      "        None of the data in adata are modified. Only adds fields to adata.\n",
      "    \n",
      "    Parameters\n",
      "    ----------\n",
      "        layer\n",
      "            if not `None`, uses this as the key in `adata.layers` for raw count data.\n",
      "        batch_key\n",
      "            key in `adata.obs` for batch information. Categories will automatically be converted into integer\n",
      "            categories and saved to `adata.obs['_scvi_batch']`. If `None`, assigns the same batch to all the data.\n",
      "        labels_key\n",
      "            key in `adata.obs` for label information. Categories will automatically be converted into integer\n",
      "            categories and saved to `adata.obs['_scvi_labels']`. If `None`, assigns the same label to all the data.\n",
      "        size_factor_key\n",
      "            key in `adata.obs` for size factor information. Instead of using library size as a size factor, the provided\n",
      "            size factor column will be used as offset in the mean of the likelihood. Assumed to be on linear scale.\n",
      "        categorical_covariate_keys\n",
      "            keys in `adata.obs` that correspond to categorical data.\n",
      "        continuous_covariate_keys\n",
      "            keys in `adata.obs` that correspond to continuous data.\n",
      "\n"
     ]
    }
   ],
   "source": [
    "help(scvi.model.MULTIVI.setup_anndata)"
   ]
  },
  {
   "cell_type": "code",
   "execution_count": 29,
   "metadata": {},
   "outputs": [
    {
     "name": "stderr",
     "output_type": "stream",
     "text": [
      "/omics/groups/OE0533/internal/katharina/scvi2/lib/python3.7/site-packages/scvi/data/_utils.py:102: UserWarning: Training will be faster when sparse matrix is formatted as CSR. It is safe to cast before model initialization.\n",
      "  \"Training will be faster when sparse matrix is formatted as CSR. It is safe to cast before model initialization.\"\n"
     ]
    }
   ],
   "source": [
    "# setup anndata for the model\n",
    "scvi.model.MULTIVI.setup_anndata(adata_mvi, batch_key='modality', categorical_covariate_keys=[\"Sample\"])"
   ]
  },
  {
   "cell_type": "code",
   "execution_count": 30,
   "metadata": {},
   "outputs": [],
   "source": [
    "mvi = scvi.model.MULTIVI(\n",
    "    adata_mvi,\n",
    "    n_genes=(adata_mvi.var['modality']=='Gene_expression').sum(),\n",
    "    n_regions=(adata_mvi.var['modality']=='Peaks').sum(),\n",
    "    dropout_rate=0.2,\n",
    "    n_layers_encoder=2,\n",
    "    n_layers_decoder=2,\n",
    "    n_latent=20,\n",
    "    latent_distribution=\"normal\",\n",
    ")\n"
   ]
  },
  {
   "cell_type": "code",
   "execution_count": null,
   "metadata": {},
   "outputs": [
    {
     "name": "stderr",
     "output_type": "stream",
     "text": [
      "GPU available: False, used: False\n",
      "TPU available: False, using: 0 TPU cores\n",
      "IPU available: False, using: 0 IPUs\n"
     ]
    },
    {
     "name": "stdout",
     "output_type": "stream",
     "text": [
      "Epoch 2/500:   0%|          | 1/500 [1:38:50<821:57:51, 5930.00s/it, loss=2.5e+04, v_num=1]"
     ]
    }
   ],
   "source": [
    "mvi.train()\n"
   ]
  },
  {
   "cell_type": "code",
   "execution_count": null,
   "metadata": {},
   "outputs": [],
   "source": [
    "mvi = scvi.model.MULTIVI(\n",
    "    adata_mvi,\n",
    "    n_genes=(adata_mvi.var['modality']=='Gene_expression').sum(),\n",
    "    n_regions=(adata_mvi.var['modality']=='Peaks').sum(),\n",
    "    dropout_rate=0.2,\n",
    "    n_layers_encoder=2,\n",
    "    n_layers_decoder=2,\n",
    "    n_latent=20,\n",
    "    latent_distribution=\"normal\",\n",
    ")\n",
    "\n",
    "\n",
    "# train the model\n",
    "mvi.train()\n",
    "\n",
    "\n",
    "\n",
    "\n",
    "# save model\n",
    "mvi.save(dir_checkpoint + \"multivi_model/\")\n",
    "\n",
    "# extract latent embedding\n",
    "latent = mvi.get_latent_representation()\n",
    "\n",
    "# add latent embedding to anndata object\n",
    "adata_mvi.obsm[\"X_multivi\"] = latent\n",
    "\n",
    "\n",
    "adata_mvi.write_h5ad(dir_checkpoint + \"anndata_object/\")\n"
   ]
  }
 ],
 "metadata": {
  "kernelspec": {
   "display_name": "scvi2",
   "language": "python",
   "name": "scvi2"
  },
  "language_info": {
   "codemirror_mode": {
    "name": "ipython",
    "version": 3
   },
   "file_extension": ".py",
   "mimetype": "text/x-python",
   "name": "python",
   "nbconvert_exporter": "python",
   "pygments_lexer": "ipython3",
   "version": "3.7.12"
  }
 },
 "nbformat": 4,
 "nbformat_minor": 4
}
